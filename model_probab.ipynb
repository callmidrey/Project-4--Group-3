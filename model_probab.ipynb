{
 "cells": [
  {
   "cell_type": "code",
   "execution_count": 24,
   "metadata": {},
   "outputs": [],
   "source": [
    "# Import denpendecies\n",
    "import requests\n",
    "import pandas as pd\n",
    "from sklearn.ensemble import RandomForestClassifier\n",
    "from sklearn.model_selection import train_test_split\n",
    "from sklearn.metrics import confusion_matrix, accuracy_score,classification_report\n",
    "from sklearn.preprocessing import StandardScaler\n",
    "import matplotlib.pyplot as plt\n",
    "import seaborn as sns\n",
    "import numpy as np"
   ]
  },
  {
   "cell_type": "markdown",
   "metadata": {},
   "source": [
    "## Extracting data from Postgres using APIs"
   ]
  },
  {
   "cell_type": "code",
   "execution_count": 25,
   "metadata": {},
   "outputs": [
    {
     "name": "stdout",
     "output_type": "stream",
     "text": [
      "Data for Bureau fetched successfully.\n",
      "Data for Bureau_balance fetched successfully.\n",
      "Data for Credit_card_balance fetched successfully.\n",
      "Data for Installments_payments fetched successfully.\n",
      "Data for POS_CASH_balance fetched successfully.\n",
      "Data for Previous_application fetched successfully.\n",
      "Data for Application_train fetched successfully.\n"
     ]
    }
   ],
   "source": [
    "# Define a list of table names and their corresponding API endpoints\n",
    "tables = {\n",
    "            \n",
    "        \"Bureau\" : 'http://127.0.0.1:5000/bureau',\n",
    "        \"Bureau_balance\" : 'http://127.0.0.1:5000/bureau_balance',\n",
    "        \"Credit_card_balance\" : 'http://127.0.0.1:5000/credit_card_balance',\n",
    "        \"Installments_payments\" : 'http://127.0.0.1:5000/installments_payments',\n",
    "        \"POS_CASH_balance\" : 'http://127.0.0.1:5000/pOS_CASH_balance',\n",
    "        \"Previous_application\" : 'http://127.0.0.1:5000/previous_application',\n",
    "        \"Application_train\" : 'http://127.0.0.1:5000/application_train'\n",
    "}\n",
    "\n",
    "# Dictionary to store DataFrames for each table\n",
    "dataframes = {}\n",
    "\n",
    "# Make API requests to get data from each table\n",
    "for table_name, endpoint in tables.items():\n",
    "    response = requests.get(endpoint)\n",
    "\n",
    "    # Check if the request was successful (status code 200)\n",
    "    if response.status_code == 200:\n",
    "        # Convert API response to a DataFrame and store it in the dictionary\n",
    "        dataframes[table_name] = pd.DataFrame(response.json())\n",
    "        print(f\"Data for {table_name} fetched successfully.\")\n",
    "    else:\n",
    "        print(f\"Error: Unable to fetch data from {table_name}. Status code: {response.status_code}\")"
   ]
  },
  {
   "cell_type": "markdown",
   "metadata": {},
   "source": [
    "## Combining DataFrames"
   ]
  },
  {
   "cell_type": "code",
   "execution_count": 26,
   "metadata": {},
   "outputs": [
    {
     "data": {
      "text/html": [
       "<div>\n",
       "<style scoped>\n",
       "    .dataframe tbody tr th:only-of-type {\n",
       "        vertical-align: middle;\n",
       "    }\n",
       "\n",
       "    .dataframe tbody tr th {\n",
       "        vertical-align: top;\n",
       "    }\n",
       "\n",
       "    .dataframe thead th {\n",
       "        text-align: right;\n",
       "    }\n",
       "</style>\n",
       "<table border=\"1\" class=\"dataframe\">\n",
       "  <thead>\n",
       "    <tr style=\"text-align: right;\">\n",
       "      <th></th>\n",
       "      <th>AMT_ANNUITY_x</th>\n",
       "      <th>AMT_CREDIT</th>\n",
       "      <th>AMT_GOODS_PRICE</th>\n",
       "      <th>AMT_INCOME_TOTAL</th>\n",
       "      <th>AMT_REQ_CREDIT_BUREAU_DAY</th>\n",
       "      <th>AMT_REQ_CREDIT_BUREAU_HOUR</th>\n",
       "      <th>AMT_REQ_CREDIT_BUREAU_MON</th>\n",
       "      <th>AMT_REQ_CREDIT_BUREAU_QRT</th>\n",
       "      <th>AMT_REQ_CREDIT_BUREAU_WEEK</th>\n",
       "      <th>AMT_REQ_CREDIT_BUREAU_YEAR</th>\n",
       "      <th>...</th>\n",
       "      <th>CREDIT_CURRENCY</th>\n",
       "      <th>CREDIT_DAY_OVERDUE</th>\n",
       "      <th>CREDIT_TYPE</th>\n",
       "      <th>DAYS_CREDIT</th>\n",
       "      <th>DAYS_CREDIT_ENDDATE</th>\n",
       "      <th>DAYS_CREDIT_UPDATE</th>\n",
       "      <th>DAYS_ENDDATE_FACT</th>\n",
       "      <th>SK_ID_BUREAU</th>\n",
       "      <th>MONTHS_BALANCE_y</th>\n",
       "      <th>STATUS</th>\n",
       "    </tr>\n",
       "  </thead>\n",
       "  <tbody>\n",
       "    <tr>\n",
       "      <th>0</th>\n",
       "      <td>13315.5</td>\n",
       "      <td>254700.0</td>\n",
       "      <td>225000.0</td>\n",
       "      <td>90000.0</td>\n",
       "      <td>0.0</td>\n",
       "      <td>0.0</td>\n",
       "      <td>7.0</td>\n",
       "      <td>0.0</td>\n",
       "      <td>0.0</td>\n",
       "      <td>1.0</td>\n",
       "      <td>...</td>\n",
       "      <td>NaN</td>\n",
       "      <td>NaN</td>\n",
       "      <td>NaN</td>\n",
       "      <td>NaN</td>\n",
       "      <td>NaN</td>\n",
       "      <td>NaN</td>\n",
       "      <td>NaN</td>\n",
       "      <td>NaN</td>\n",
       "      <td>NaN</td>\n",
       "      <td>NaN</td>\n",
       "    </tr>\n",
       "    <tr>\n",
       "      <th>1</th>\n",
       "      <td>13315.5</td>\n",
       "      <td>254700.0</td>\n",
       "      <td>225000.0</td>\n",
       "      <td>90000.0</td>\n",
       "      <td>0.0</td>\n",
       "      <td>0.0</td>\n",
       "      <td>7.0</td>\n",
       "      <td>0.0</td>\n",
       "      <td>0.0</td>\n",
       "      <td>1.0</td>\n",
       "      <td>...</td>\n",
       "      <td>NaN</td>\n",
       "      <td>NaN</td>\n",
       "      <td>NaN</td>\n",
       "      <td>NaN</td>\n",
       "      <td>NaN</td>\n",
       "      <td>NaN</td>\n",
       "      <td>NaN</td>\n",
       "      <td>NaN</td>\n",
       "      <td>NaN</td>\n",
       "      <td>NaN</td>\n",
       "    </tr>\n",
       "    <tr>\n",
       "      <th>2</th>\n",
       "      <td>29754.0</td>\n",
       "      <td>747000.0</td>\n",
       "      <td>747000.0</td>\n",
       "      <td>405000.0</td>\n",
       "      <td>0.0</td>\n",
       "      <td>0.0</td>\n",
       "      <td>0.0</td>\n",
       "      <td>0.0</td>\n",
       "      <td>0.0</td>\n",
       "      <td>1.0</td>\n",
       "      <td>...</td>\n",
       "      <td>NaN</td>\n",
       "      <td>NaN</td>\n",
       "      <td>NaN</td>\n",
       "      <td>NaN</td>\n",
       "      <td>NaN</td>\n",
       "      <td>NaN</td>\n",
       "      <td>NaN</td>\n",
       "      <td>NaN</td>\n",
       "      <td>NaN</td>\n",
       "      <td>NaN</td>\n",
       "    </tr>\n",
       "    <tr>\n",
       "      <th>3</th>\n",
       "      <td>29754.0</td>\n",
       "      <td>747000.0</td>\n",
       "      <td>747000.0</td>\n",
       "      <td>405000.0</td>\n",
       "      <td>0.0</td>\n",
       "      <td>0.0</td>\n",
       "      <td>0.0</td>\n",
       "      <td>0.0</td>\n",
       "      <td>0.0</td>\n",
       "      <td>1.0</td>\n",
       "      <td>...</td>\n",
       "      <td>NaN</td>\n",
       "      <td>NaN</td>\n",
       "      <td>NaN</td>\n",
       "      <td>NaN</td>\n",
       "      <td>NaN</td>\n",
       "      <td>NaN</td>\n",
       "      <td>NaN</td>\n",
       "      <td>NaN</td>\n",
       "      <td>NaN</td>\n",
       "      <td>NaN</td>\n",
       "    </tr>\n",
       "    <tr>\n",
       "      <th>4</th>\n",
       "      <td>29754.0</td>\n",
       "      <td>747000.0</td>\n",
       "      <td>747000.0</td>\n",
       "      <td>405000.0</td>\n",
       "      <td>0.0</td>\n",
       "      <td>0.0</td>\n",
       "      <td>0.0</td>\n",
       "      <td>0.0</td>\n",
       "      <td>0.0</td>\n",
       "      <td>1.0</td>\n",
       "      <td>...</td>\n",
       "      <td>NaN</td>\n",
       "      <td>NaN</td>\n",
       "      <td>NaN</td>\n",
       "      <td>NaN</td>\n",
       "      <td>NaN</td>\n",
       "      <td>NaN</td>\n",
       "      <td>NaN</td>\n",
       "      <td>NaN</td>\n",
       "      <td>NaN</td>\n",
       "      <td>NaN</td>\n",
       "    </tr>\n",
       "  </tbody>\n",
       "</table>\n",
       "<p>5 rows × 140 columns</p>\n",
       "</div>"
      ],
      "text/plain": [
       "   AMT_ANNUITY_x  AMT_CREDIT  AMT_GOODS_PRICE  AMT_INCOME_TOTAL  \\\n",
       "0        13315.5    254700.0         225000.0           90000.0   \n",
       "1        13315.5    254700.0         225000.0           90000.0   \n",
       "2        29754.0    747000.0         747000.0          405000.0   \n",
       "3        29754.0    747000.0         747000.0          405000.0   \n",
       "4        29754.0    747000.0         747000.0          405000.0   \n",
       "\n",
       "   AMT_REQ_CREDIT_BUREAU_DAY  AMT_REQ_CREDIT_BUREAU_HOUR  \\\n",
       "0                        0.0                         0.0   \n",
       "1                        0.0                         0.0   \n",
       "2                        0.0                         0.0   \n",
       "3                        0.0                         0.0   \n",
       "4                        0.0                         0.0   \n",
       "\n",
       "   AMT_REQ_CREDIT_BUREAU_MON  AMT_REQ_CREDIT_BUREAU_QRT  \\\n",
       "0                        7.0                        0.0   \n",
       "1                        7.0                        0.0   \n",
       "2                        0.0                        0.0   \n",
       "3                        0.0                        0.0   \n",
       "4                        0.0                        0.0   \n",
       "\n",
       "   AMT_REQ_CREDIT_BUREAU_WEEK  AMT_REQ_CREDIT_BUREAU_YEAR  ...  \\\n",
       "0                         0.0                         1.0  ...   \n",
       "1                         0.0                         1.0  ...   \n",
       "2                         0.0                         1.0  ...   \n",
       "3                         0.0                         1.0  ...   \n",
       "4                         0.0                         1.0  ...   \n",
       "\n",
       "   CREDIT_CURRENCY  CREDIT_DAY_OVERDUE CREDIT_TYPE  DAYS_CREDIT  \\\n",
       "0              NaN                 NaN         NaN          NaN   \n",
       "1              NaN                 NaN         NaN          NaN   \n",
       "2              NaN                 NaN         NaN          NaN   \n",
       "3              NaN                 NaN         NaN          NaN   \n",
       "4              NaN                 NaN         NaN          NaN   \n",
       "\n",
       "   DAYS_CREDIT_ENDDATE  DAYS_CREDIT_UPDATE  DAYS_ENDDATE_FACT  SK_ID_BUREAU  \\\n",
       "0                  NaN                 NaN                NaN           NaN   \n",
       "1                  NaN                 NaN                NaN           NaN   \n",
       "2                  NaN                 NaN                NaN           NaN   \n",
       "3                  NaN                 NaN                NaN           NaN   \n",
       "4                  NaN                 NaN                NaN           NaN   \n",
       "\n",
       "   MONTHS_BALANCE_y  STATUS  \n",
       "0               NaN     NaN  \n",
       "1               NaN     NaN  \n",
       "2               NaN     NaN  \n",
       "3               NaN     NaN  \n",
       "4               NaN     NaN  \n",
       "\n",
       "[5 rows x 140 columns]"
      ]
     },
     "execution_count": 26,
     "metadata": {},
     "output_type": "execute_result"
    }
   ],
   "source": [
    "# Merge tables based on specified keys\n",
    "merged_table = dataframes[\"Application_train\"]\n",
    "\n",
    "# Merge POS_CASH_balance, Installments_payments, Credit_card_balance based on SK_ID_PREV\n",
    "for table_name in [\"POS_CASH_balance\", \"Installments_payments\", \"Credit_card_balance\", \"Previous_application\"]:\n",
    "    if table_name in dataframes:\n",
    "        # Specify suffixes to avoid duplicate column names\n",
    "        merged_table = pd.merge(merged_table, dataframes[table_name], on='SK_ID_CURR', how='left', suffixes=('', f'_{table_name}'))\n",
    "\n",
    "# Merge Bureau and Bureau_balance based on SK_ID_BUREAU\n",
    "if \"Bureau\" in dataframes and \"Bureau_balance\" in dataframes:\n",
    "    bureau_merged = pd.merge(dataframes[\"Bureau\"], dataframes[\"Bureau_balance\"], on='SK_ID_BUREAU', how='left', suffixes=('_bureau', '_bureau_balance'))\n",
    "    merged_table = pd.merge(merged_table, bureau_merged, on='SK_ID_CURR', how='left')\n",
    "\n",
    "# Display the final merged table with unique columns\n",
    "unique_columns = merged_table.columns.unique()\n",
    "final_table = merged_table[unique_columns]\n",
    "\n",
    "# Display the final table\n",
    "final_table.head()"
   ]
  },
  {
   "cell_type": "markdown",
   "metadata": {},
   "source": [
    "## Cleaning & Encoding categorical variables"
   ]
  },
  {
   "cell_type": "code",
   "execution_count": 5,
   "metadata": {},
   "outputs": [],
   "source": [
    "# Drop duplicate values\n",
    "data_df = final_table.drop_duplicates()"
   ]
  },
  {
   "cell_type": "code",
   "execution_count": 6,
   "metadata": {},
   "outputs": [],
   "source": [
    "# Fill na with (0)\n",
    "data_df=data_df.fillna(0)"
   ]
  },
  {
   "cell_type": "code",
   "execution_count": 7,
   "metadata": {},
   "outputs": [],
   "source": [
    "# Changing CODE_GENDER to 0 and 1 to match model\n",
    "data_df['CODE_GENDER'] = data_df['CODE_GENDER'].replace({'F': 0, 'M': 1})"
   ]
  },
  {
   "cell_type": "code",
   "execution_count": 8,
   "metadata": {},
   "outputs": [],
   "source": [
    "# Changing FLAG_OWN_REALTY AND FLAG_OWN_CAR to 0 and 1 to match model\n",
    "data_df[['FLAG_OWN_REALTY', 'FLAG_OWN_CAR']] = data_df[['FLAG_OWN_REALTY', 'FLAG_OWN_CAR']].replace({'Y': 1, 'N': 0}).astype(int)"
   ]
  },
  {
   "cell_type": "markdown",
   "metadata": {},
   "source": [
    "## Assigning Values to X and y"
   ]
  },
  {
   "cell_type": "code",
   "execution_count": 9,
   "metadata": {},
   "outputs": [],
   "source": [
    "# Selecting X features\n",
    "X = data_df.drop(columns=['TARGET'], axis=1)"
   ]
  },
  {
   "cell_type": "code",
   "execution_count": 10,
   "metadata": {},
   "outputs": [],
   "source": [
    "# Convert categorical variables to dummy/indicator variables\n",
    "X = pd.get_dummies(X).astype(int)"
   ]
  },
  {
   "cell_type": "code",
   "execution_count": 11,
   "metadata": {},
   "outputs": [],
   "source": [
    "# select Target variable\n",
    "y = data_df['TARGET'].values"
   ]
  },
  {
   "cell_type": "markdown",
   "metadata": {},
   "source": [
    "## Machine learning model: Randon Forest Classifier"
   ]
  },
  {
   "cell_type": "code",
   "execution_count": 12,
   "metadata": {},
   "outputs": [
    {
     "name": "stdout",
     "output_type": "stream",
     "text": [
      "Confusion Matrix:\n",
      "[[47266     0]\n",
      " [ 1577  2277]]\n",
      "\n",
      "Accuracy: 0.9691510172143974\n"
     ]
    }
   ],
   "source": [
    "# Split the data into training and testing sets\n",
    "X_train, X_test, y_train, y_test = train_test_split(X, y, test_size=0.2, random_state=42)\n",
    "\n",
    "# Instantiate a StandardScaler instance\n",
    "\n",
    "scaler = StandardScaler()\n",
    "\n",
    "# Fit the training data to the standard scaler\n",
    "X_scaler = scaler.fit(X_train)\n",
    "\n",
    "# Transform the training data using the scaler\n",
    "X_train_scaled = X_scaler.transform(X_train)\n",
    "\n",
    "# Transform the testing data using the scaler\n",
    "X_test_scaled = X_scaler.transform(X_test)\n",
    "\n",
    "# Initialize the RandomForestClassifier\n",
    "model = RandomForestClassifier(n_estimators=100, random_state=42)\n",
    "\n",
    "# Train the model\n",
    "model.fit(X_train_scaled, y_train)\n",
    "\n",
    "# Get probability outputs for the test set\n",
    "probabilities = model.predict_proba(X_test_scaled)\n",
    "\n",
    "# Extract the probability of the positive class (class 1)\n",
    "positive_class_probabilities = probabilities[:, 1]\n",
    "\n",
    "# Define a threshold to make binary predictions\n",
    "threshold = 0.5\n",
    "binary_predictions = (positive_class_probabilities > threshold).astype(int)\n",
    "\n",
    "# Calculate the confusion matrix\n",
    "conf_matrix = confusion_matrix(y_test, binary_predictions)\n",
    "\n",
    "# Calculate accuracy\n",
    "accuracy = accuracy_score(y_test, binary_predictions)\n",
    "\n",
    "# Print the confusion matrix and accuracy\n",
    "print(\"Confusion Matrix:\")\n",
    "print(conf_matrix)\n",
    "print(\"\\nAccuracy:\", accuracy)"
   ]
  },
  {
   "cell_type": "code",
   "execution_count": 16,
   "metadata": {},
   "outputs": [
    {
     "name": "stdout",
     "output_type": "stream",
     "text": [
      "\n",
      "Classification Report:\n",
      "              precision    recall  f1-score   support\n",
      "\n",
      "           0       0.97      1.00      0.98     47266\n",
      "           1       1.00      0.59      0.74      3854\n",
      "\n",
      "    accuracy                           0.97     51120\n",
      "   macro avg       0.98      0.80      0.86     51120\n",
      "weighted avg       0.97      0.97      0.97     51120\n",
      "\n"
     ]
    }
   ],
   "source": [
    "report = classification_report(y_test, binary_predictions)\n",
    "print(\"\\nClassification Report:\")\n",
    "print(report)"
   ]
  },
  {
   "cell_type": "markdown",
   "metadata": {},
   "source": [
    "## Assigning risk levels"
   ]
  },
  {
   "cell_type": "code",
   "execution_count": 17,
   "metadata": {},
   "outputs": [
    {
     "name": "stdout",
     "output_type": "stream",
     "text": [
      "       SK_ID_CURR  Probability     Risk Level\n",
      "0          100006         0.12  Very Low Risk\n",
      "1          100008         0.10  Very Low Risk\n",
      "2          100015         0.14  Very Low Risk\n",
      "3          100016         0.03  Very Low Risk\n",
      "4          100017         0.11  Very Low Risk\n",
      "...           ...          ...            ...\n",
      "36370      456239         0.03  Very Low Risk\n",
      "36371      456241         0.12  Very Low Risk\n",
      "36372      456242         0.11  Very Low Risk\n",
      "36373      456243         0.15  Very Low Risk\n",
      "36374      456244         0.02  Very Low Risk\n",
      "\n",
      "[36375 rows x 3 columns]\n"
     ]
    }
   ],
   "source": [
    "# Extract the probability of the positive class (class 1)\n",
    "positive_class_probabilities = probabilities[:, 1]\n",
    "\n",
    "# Define custom thresholds for each class\n",
    "thresholds = [0.2, 0.4, 0.6, 0.8]\n",
    "\n",
    "# Classify into 5 classes based on custom thresholds\n",
    "risk_levels = pd.cut(positive_class_probabilities, bins=[-float('inf')] + thresholds + [float('inf')],\n",
    "                     labels=['Very Low Risk', 'Low Risk', 'Medium Risk', 'High Risk', 'Very High Risk'], include_lowest=True)\n",
    "\n",
    "# Create a DataFrame with 'SK_ID_CURR', probability, and risk level\n",
    "result_df = pd.DataFrame({'SK_ID_CURR': X_test['SK_ID_CURR'],'Probability': positive_class_probabilities, 'Risk Level': risk_levels})\n",
    "result_df.sort_values(by='SK_ID_CURR', ascending=True, inplace=True)\n",
    "result_df = result_df.drop_duplicates()\n",
    "result_df = result_df.reset_index(drop=True)\n",
    "# Print the result DataFrame\n",
    "print(result_df)"
   ]
  },
  {
   "cell_type": "markdown",
   "metadata": {},
   "source": [
    "## Top contributing features"
   ]
  },
  {
   "cell_type": "code",
   "execution_count": 18,
   "metadata": {},
   "outputs": [
    {
     "data": {
      "text/plain": [
       "0                           DAYS_BIRTH\n",
       "1                      DAYS_ID_PUBLISH\n",
       "2                    DAYS_REGISTRATION\n",
       "3                        AMT_ANNUITY_x\n",
       "4                           SK_ID_CURR\n",
       "5               DAYS_LAST_PHONE_CHANGE\n",
       "6                        DAYS_EMPLOYED\n",
       "7                           AMT_CREDIT\n",
       "8                     AMT_INCOME_TOTAL\n",
       "9                      AMT_GOODS_PRICE\n",
       "10             HOUR_APPR_PROCESS_START\n",
       "11          AMT_REQ_CREDIT_BUREAU_YEAR\n",
       "12    SK_ID_PREV_Installments_payments\n",
       "13                         OWN_CAR_AGE\n",
       "14            OBS_30_CNT_SOCIAL_CIRCLE\n",
       "15            OBS_60_CNT_SOCIAL_CIRCLE\n",
       "16                      AMT_INSTALMENT\n",
       "17                  DAYS_ENTRY_PAYMENT\n",
       "18                     DAYS_INSTALMENT\n",
       "19      SK_ID_PREV_Credit_card_balance\n",
       "20                         AMT_PAYMENT\n",
       "21               NUM_INSTALMENT_NUMBER\n",
       "22                          SK_ID_PREV\n",
       "23                     CNT_FAM_MEMBERS\n",
       "24                    MONTHS_BALANCE_x\n",
       "25               CNT_INSTALMENT_FUTURE\n",
       "26                      CNT_INSTALMENT\n",
       "27           CNT_INSTALMENT_MATURE_CUM\n",
       "28                        SK_ID_BUREAU\n",
       "29                       DAYS_DECISION\n",
       "Name: 1, dtype: object"
      ]
     },
     "execution_count": 18,
     "metadata": {},
     "output_type": "execute_result"
    }
   ],
   "source": [
    "# Random Forests in sklearn will automatically calculate feature importance\n",
    "importances = model.feature_importances_\n",
    "# We can sort the features by their importance\n",
    "importances_sorted = sorted(zip(model.feature_importances_, X.columns), reverse=True)\n",
    "importances_sorted = importances_sorted[:30]\n",
    "sorted_df = pd.DataFrame(importances_sorted)\n",
    "sorted_df[1]"
   ]
  },
  {
   "cell_type": "code",
   "execution_count": 19,
   "metadata": {},
   "outputs": [
    {
     "data": {
      "text/plain": [
       "<Axes: title={'center': 'Features Importances'}, ylabel='1'>"
      ]
     },
     "execution_count": 19,
     "metadata": {},
     "output_type": "execute_result"
    },
    {
     "data": {
      "image/png": "[encoded data removed]",
      "text/plain": [
       "<Figure size 640x480 with 1 Axes>"
      ]
     },
     "metadata": {},
     "output_type": "display_data"
    }
   ],
   "source": [
    "sorted_df.set_index(sorted_df[1], inplace=True)\n",
    "sorted_df.drop(columns=1, inplace=True)\n",
    "sorted_df.rename(columns={0: 'Feature Importances'}, inplace=True)\n",
    "importances_sorted = sorted_df.sort_values(by='Feature Importances')\n",
    "importances_sorted.plot(kind='barh', color='lightgreen', title= 'Features Importances', legend=False)"
   ]
  },
  {
   "cell_type": "markdown",
   "metadata": {},
   "source": [
    "## Selecting top contributing features"
   ]
  },
  {
   "cell_type": "code",
   "execution_count": 20,
   "metadata": {},
   "outputs": [],
   "source": [
    "X  = data_df[[\"DAYS_ID_PUBLISH\",\n",
    "                           \"DAYS_BIRTH\",\n",
    "                      \"DAYS_REGISTRATION\",\n",
    "                 \"DAYS_LAST_PHONE_CHANGE\",\n",
    "                          \"AMT_ANNUITY_x\",\n",
    "                             \"SK_ID_CURR\",\n",
    "                             \"AMT_CREDIT\",\n",
    "                          \"DAYS_EMPLOYED\",\n",
    "                        \"AMT_GOODS_PRICE\",\n",
    "                       \"AMT_INCOME_TOTAL\",\n",
    "               \"HOUR_APPR_PROCESS_START\",\n",
    "            \"AMT_REQ_CREDIT_BUREAU_YEAR\",\n",
    "                           \"OWN_CAR_AGE\",\n",
    "              \"OBS_30_CNT_SOCIAL_CIRCLE\",\n",
    "              \"OBS_60_CNT_SOCIAL_CIRCLE\",\n",
    "                           \"AMT_PAYMENT\",\n",
    "                    \"DAYS_ENTRY_PAYMENT\",\n",
    "                        \"AMT_INSTALMENT\",\n",
    "                       \"DAYS_INSTALMENT\",\n",
    "                 \"NUM_INSTALMENT_NUMBER\",\n",
    "                 \"CNT_INSTALMENT_FUTURE\",\n",
    "                      \"MONTHS_BALANCE_x\",\n",
    "                       \"CNT_FAM_MEMBERS\",\n",
    "                        \"CNT_INSTALMENT\",\n",
    "             \"CNT_INSTALMENT_MATURE_CUM\",\n",
    "    \"MONTHS_BALANCE_Credit_card_balance\"]]"
   ]
  },
  {
   "cell_type": "code",
   "execution_count": 21,
   "metadata": {},
   "outputs": [],
   "source": [
    "# Fillna (0) in the selective features\n",
    "X_features = X.fillna(0)"
   ]
  },
  {
   "cell_type": "code",
   "execution_count": 22,
   "metadata": {},
   "outputs": [],
   "source": [
    "# Selective target variable\n",
    "y_features = data_df['TARGET']"
   ]
  },
  {
   "cell_type": "markdown",
   "metadata": {},
   "source": [
    "## Machine learning model: Random Forest Classifier"
   ]
  },
  {
   "cell_type": "code",
   "execution_count": 23,
   "metadata": {},
   "outputs": [
    {
     "name": "stdout",
     "output_type": "stream",
     "text": [
      "Confusion Matrix:\n",
      "[[47266     0]\n",
      " [ 1518  2336]]\n",
      "\n",
      "Accuracy: 0.9703051643192488\n"
     ]
    }
   ],
   "source": [
    "# Split the data into training and testing sets\n",
    "X_train, X_test, y_train, y_test = train_test_split(X_features, y_features, test_size=0.2, random_state=42)\n",
    "\n",
    "# Instantiate a StandardScaler instance\n",
    "scaler = StandardScaler()\n",
    "\n",
    "# Fit the training data to the standard scaler\n",
    "X_scaler = scaler.fit(X_train)\n",
    "\n",
    "# Transform the training data using the scaler\n",
    "X_train_scaled = X_scaler.transform(X_train)\n",
    "\n",
    "# Transform the testing data using the scaler\n",
    "X_test_scaled = X_scaler.transform(X_test)\n",
    "\n",
    "# Initialize the RandomForestClassifier\n",
    "model_features = RandomForestClassifier(n_estimators=100, random_state=42)\n",
    "\n",
    "# Train the model\n",
    "model_features.fit(X_train_scaled, y_train)\n",
    "\n",
    "# Get probability outputs for the test set\n",
    "probabilities_features = model_features.predict_proba(X_test_scaled)\n",
    "\n",
    "# Extract the probability of the positive class (class 1)\n",
    "positive_class_probabilities_features = probabilities_features[:, 1]\n",
    "\n",
    "# Define a threshold to make binary predictions\n",
    "threshold = 0.5\n",
    "binary_predictions_features = (positive_class_probabilities_features > threshold).astype(int)\n",
    "\n",
    "# Calculate the confusion matrix\n",
    "conf_matrix = confusion_matrix(y_test, binary_predictions_features)\n",
    "\n",
    "# Calculate accuracy\n",
    "accuracy = accuracy_score(y_test, binary_predictions_features)\n",
    "\n",
    "# Print the confusion matrix and accuracy\n",
    "print(\"Confusion Matrix:\")\n",
    "print(conf_matrix)\n",
    "print(\"\\nAccuracy:\", accuracy)"
   ]
  },
  {
   "cell_type": "code",
   "execution_count": null,
   "metadata": {},
   "outputs": [
    {
     "name": "stdout",
     "output_type": "stream",
     "text": [
      "\n",
      "Classification Report:\n",
      "              precision    recall  f1-score   support\n",
      "\n",
      "           0       0.97      1.00      0.98     45513\n",
      "           1       1.00      0.60      0.75      3778\n",
      "\n",
      "    accuracy                           0.97     49291\n",
      "   macro avg       0.98      0.80      0.87     49291\n",
      "weighted avg       0.97      0.97      0.97     49291\n",
      "\n"
     ]
    }
   ],
   "source": [
    "report = classification_report(y_test, binary_predictions_features)\n",
    "print(\"\\nClassification Report:\")\n",
    "print(report)"
   ]
  },
  {
   "cell_type": "code",
   "execution_count": null,
   "metadata": {},
   "outputs": [
    {
     "name": "stdout",
     "output_type": "stream",
     "text": [
      "       SK_ID_CURR  Probability     Risk Level\n",
      "0          100007         0.02  Very Low Risk\n",
      "1          100007         0.06  Very Low Risk\n",
      "2          100007         0.05  Very Low Risk\n",
      "3          100010         0.04  Very Low Risk\n",
      "4          100016         0.07  Very Low Risk\n",
      "...           ...          ...            ...\n",
      "33829      456244         0.00  Very Low Risk\n",
      "33830      456247         0.13  Very Low Risk\n",
      "33831      456247         0.16  Very Low Risk\n",
      "33832      456248         0.07  Very Low Risk\n",
      "33833      456251         0.30       Low Risk\n",
      "\n",
      "[33834 rows x 3 columns]\n"
     ]
    }
   ],
   "source": [
    "# Extract the probability of the positive class (class 1)\n",
    "positive_class_probabilities_features = probabilities_features[:, 1]\n",
    "\n",
    "# Define custom thresholds for each class\n",
    "thresholds = [0.2, 0.4, 0.6, 0.8]\n",
    "\n",
    "# Classify into 5 classes based on custom thresholds\n",
    "risk_levels_features = pd.cut(positive_class_probabilities_features, bins=[-float('inf')] + thresholds + [float('inf')],\n",
    "                     labels=['Very Low Risk', 'Low Risk', 'Medium Risk', 'High Risk', 'Very High Risk'], include_lowest=True)\n",
    "\n",
    "# Create a DataFrame with 'SK_ID_CURR', probability, and risk level\n",
    "result_df_features = pd.DataFrame({'SK_ID_CURR': X_test['SK_ID_CURR'],'Probability': positive_class_probabilities_features, 'Risk Level': risk_levels_features})\n",
    "result_df_features.sort_values(by='SK_ID_CURR', ascending=True, inplace=True)\n",
    "result_df_features = result_df_features.drop_duplicates()\n",
    "result_df_features = result_df_features.reset_index(drop=True)\n",
    "# Print the result DataFrame\n",
    "print(result_df_features)"
   ]
  },
  {
   "cell_type": "code",
   "execution_count": null,
   "metadata": {},
   "outputs": [
    {
     "data": {
      "text/plain": [
       "['model_probability.joblib']"
      ]
     },
     "execution_count": 24,
     "metadata": {},
     "output_type": "execute_result"
    }
   ],
   "source": [
    "import joblib\n",
    "joblib.dump(model_features, 'model_probability.joblib')"
   ]
  }
 ],
 "metadata": {
  "kernelspec": {
   "display_name": "base",
   "language": "python",
   "name": "python3"
  },
  "language_info": {
   "codemirror_mode": {
    "name": "ipython",
    "version": 3
   },
   "file_extension": ".py",
   "mimetype": "text/x-python",
   "name": "python",
   "nbconvert_exporter": "python",
   "pygments_lexer": "ipython3",
   "version": "3.10.13"
  }
 },
 "nbformat": 4,
 "nbformat_minor": 2
}
