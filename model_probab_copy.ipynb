{
 "cells": [
  {
   "cell_type": "code",
   "execution_count": 1,
   "metadata": {},
   "outputs": [
    {
     "name": "stdout",
     "output_type": "stream",
     "text": [
      "Data for Bureau fetched successfully.\n",
      "Data for Bureau_balance fetched successfully.\n",
      "Data for Credit_card_balance fetched successfully.\n",
      "Data for Installments_payments fetched successfully.\n",
      "Data for POS_CASH_balance fetched successfully.\n",
      "Data for Previous_application fetched successfully.\n",
      "Data for Application_train fetched successfully.\n"
     ]
    }
   ],
   "source": [
    "import requests\n",
    "import pandas as pd\n",
    "\n",
    "# Define a list of table names and their corresponding API endpoints\n",
    "tables = {\n",
    "            \n",
    "        \"Bureau\" : 'http://127.0.0.1:5000/bureau',\n",
    "        \"Bureau_balance\" : 'http://127.0.0.1:5000/bureau_balance',\n",
    "        \"Credit_card_balance\" : 'http://127.0.0.1:5000/credit_card_balance',\n",
    "        \"Installments_payments\" : 'http://127.0.0.1:5000/installments_payments',\n",
    "        \"POS_CASH_balance\" : 'http://127.0.0.1:5000/pos_cash_balance',\n",
    "        \"Previous_application\" : 'http://127.0.0.1:5000/previous_application',\n",
    "        \"Application_train\" : 'http://127.0.0.1:5000/application_train'\n",
    "}\n",
    "\n",
    "# Dictionary to store DataFrames for each table\n",
    "dataframes = {}\n",
    "\n",
    "# Make API requests to get data from each table\n",
    "for table_name, endpoint in tables.items():\n",
    "    response = requests.get(endpoint)\n",
    "\n",
    "    # Check if the request was successful (status code 200)\n",
    "    if response.status_code == 200:\n",
    "        # Convert API response to a DataFrame and store it in the dictionary\n",
    "        dataframes[table_name] = pd.DataFrame(response.json())\n",
    "        print(f\"Data for {table_name} fetched successfully.\")\n",
    "    else:\n",
    "        print(f\"Error: Unable to fetch data from {table_name}. Status code: {response.status_code}\")"
   ]
  },
  {
   "cell_type": "code",
   "execution_count": 2,
   "metadata": {},
   "outputs": [
    {
     "name": "stdout",
     "output_type": "stream",
     "text": [
      "   AMT_ANNUITY_x  AMT_CREDIT  AMT_GOODS_PRICE  AMT_INCOME_TOTAL  \\\n",
      "0        24700.5    406597.5         351000.0          202500.0   \n",
      "1        35698.5   1293502.5        1129500.0          270000.0   \n",
      "2         6750.0    135000.0         135000.0           67500.0   \n",
      "3        29686.5    312682.5         297000.0          135000.0   \n",
      "4        21865.5    513000.0         513000.0          121500.0   \n",
      "\n",
      "   AMT_REQ_CREDIT_BUREAU_DAY  AMT_REQ_CREDIT_BUREAU_HOUR  \\\n",
      "0                      0.000                    0.000000   \n",
      "1                      0.000                    0.000000   \n",
      "2                      0.000                    0.000000   \n",
      "3                      0.007                    0.006403   \n",
      "4                      0.000                    0.000000   \n",
      "\n",
      "   AMT_REQ_CREDIT_BUREAU_MON  AMT_REQ_CREDIT_BUREAU_QRT  \\\n",
      "0                   0.000000                   0.000000   \n",
      "1                   0.000000                   0.000000   \n",
      "2                   0.000000                   0.000000   \n",
      "3                   0.267398                   0.265477   \n",
      "4                   0.000000                   0.000000   \n",
      "\n",
      "   AMT_REQ_CREDIT_BUREAU_WEEK  AMT_REQ_CREDIT_BUREAU_YEAR  ...  \\\n",
      "0                    0.000000                    1.000000  ...   \n",
      "1                    0.000000                    0.000000  ...   \n",
      "2                    0.000000                    0.000000  ...   \n",
      "3                    0.034359                    1.899977  ...   \n",
      "4                    0.000000                    0.000000  ...   \n",
      "\n",
      "   CREDIT_CURRENCY  CREDIT_DAY_OVERDUE CREDIT_TYPE  DAYS_CREDIT  \\\n",
      "0              NaN                 NaN         NaN          NaN   \n",
      "1              NaN                 NaN         NaN          NaN   \n",
      "2              NaN                 NaN         NaN          NaN   \n",
      "3              NaN                 NaN         NaN          NaN   \n",
      "4              NaN                 NaN         NaN          NaN   \n",
      "\n",
      "   DAYS_CREDIT_ENDDATE  DAYS_CREDIT_UPDATE  DAYS_ENDDATE_FACT  SK_ID_BUREAU  \\\n",
      "0                  NaN                 NaN                NaN           NaN   \n",
      "1                  NaN                 NaN                NaN           NaN   \n",
      "2                  NaN                 NaN                NaN           NaN   \n",
      "3                  NaN                 NaN                NaN           NaN   \n",
      "4                  NaN                 NaN                NaN           NaN   \n",
      "\n",
      "   MONTHS_BALANCE_y  STATUS  \n",
      "0               NaN     NaN  \n",
      "1               NaN     NaN  \n",
      "2               NaN     NaN  \n",
      "3               NaN     NaN  \n",
      "4               NaN     NaN  \n",
      "\n",
      "[5 rows x 140 columns]\n"
     ]
    }
   ],
   "source": [
    "# Merge tables based on specified keys\n",
    "merged_table = dataframes[\"Application_train\"]\n",
    "\n",
    "# Merge POS_CASH_balance, Installments_payments, Credit_card_balance based on SK_ID_PREV\n",
    "for table_name in [\"POS_CASH_balance\", \"Installments_payments\", \"Credit_card_balance\", \"Previous_application\"]:\n",
    "    if table_name in dataframes:\n",
    "        # Specify suffixes to avoid duplicate column names\n",
    "        merged_table = pd.merge(merged_table, dataframes[table_name], on='SK_ID_CURR', how='left', suffixes=('', f'_{table_name}'))\n",
    "\n",
    "# Merge Bureau and Bureau_balance based on SK_ID_BUREAU\n",
    "if \"Bureau\" in dataframes and \"Bureau_balance\" in dataframes:\n",
    "    bureau_merged = pd.merge(dataframes[\"Bureau\"], dataframes[\"Bureau_balance\"], on='SK_ID_BUREAU', how='left', suffixes=('_bureau', '_bureau_balance'))\n",
    "    merged_table = pd.merge(merged_table, bureau_merged, on='SK_ID_CURR', how='left')\n",
    "\n",
    "# Display the final merged table with unique columns\n",
    "unique_columns = merged_table.columns.unique()\n",
    "final_table = merged_table[unique_columns]\n",
    "\n",
    "# Display the final table\n",
    "print(final_table.head())"
   ]
  },
  {
   "cell_type": "code",
   "execution_count": 3,
   "metadata": {},
   "outputs": [],
   "source": [
    "data_df = final_table.drop_duplicates()"
   ]
  },
  {
   "cell_type": "code",
   "execution_count": 4,
   "metadata": {},
   "outputs": [],
   "source": [
    "data_df=data_df.fillna(0)"
   ]
  },
  {
   "cell_type": "code",
   "execution_count": 5,
   "metadata": {},
   "outputs": [],
   "source": [
    "data_df['CODE_GENDER'] = data_df['CODE_GENDER'].replace({'F': 0, 'M': 1})"
   ]
  },
  {
   "cell_type": "code",
   "execution_count": 6,
   "metadata": {},
   "outputs": [],
   "source": [
    "# Changing FLAG_OWN_REALTY AND FLAG_OWN_CAR to 0 and 1 to match model\n",
    "data_df[['FLAG_OWN_REALTY', 'FLAG_OWN_CAR']] = data_df[['FLAG_OWN_REALTY', 'FLAG_OWN_CAR']].replace({'Y': 1, 'N': 0}).astype(int)\n"
   ]
  },
  {
   "cell_type": "code",
   "execution_count": 7,
   "metadata": {},
   "outputs": [],
   "source": [
    "# Selecting X features\n",
    "X  = data_df[[\n",
    "                     \"AMT_ANNUITY_x\",\n",
    "                     \"SK_ID_CURR\",\n",
    "                     \"AMT_CREDIT\",\n",
    "                     \"DAYS_EMPLOYED\",\n",
    "                     \"AMT_GOODS_PRICE\",\n",
    "                     \"AMT_INCOME_TOTAL\",\n",
    "                     \"AMT_REQ_CREDIT_BUREAU_YEAR\",\n",
    "                     \"OBS_30_CNT_SOCIAL_CIRCLE\",\n",
    "                     \"OBS_60_CNT_SOCIAL_CIRCLE\",\n",
    "                     \"AMT_PAYMENT\",\n",
    "                     \"DAYS_ENTRY_PAYMENT\",\n",
    "                     \"AMT_INSTALMENT\",\n",
    "                     \"DAYS_INSTALMENT\",\n",
    "                     \"NUM_INSTALMENT_NUMBER\",\n",
    "                     \"CNT_INSTALMENT_FUTURE\",\n",
    "                     \"MONTHS_BALANCE_x\",\n",
    "                     \"CNT_FAM_MEMBERS\",\n",
    "                     \"CNT_INSTALMENT\",\n",
    "                     \"CNT_INSTALMENT_MATURE_CUM\",\n",
    "                     \"MONTHS_BALANCE_Credit_card_balance\"]]"
   ]
  },
  {
   "cell_type": "code",
   "execution_count": 8,
   "metadata": {},
   "outputs": [],
   "source": [
    "# Convert categorical variables to dummy/indicator variables\n",
    "X = pd.get_dummies(X).astype(int)"
   ]
  },
  {
   "cell_type": "code",
   "execution_count": 9,
   "metadata": {},
   "outputs": [],
   "source": [
    "y = data_df['TARGET'].values"
   ]
  },
  {
   "cell_type": "code",
   "execution_count": 10,
   "metadata": {},
   "outputs": [],
   "source": [
    "from sklearn.ensemble import RandomForestClassifier\n",
    "from sklearn.model_selection import train_test_split\n",
    "from sklearn.metrics import confusion_matrix, accuracy_score,classification_report\n",
    "from sklearn.preprocessing import StandardScaler"
   ]
  },
  {
   "cell_type": "code",
   "execution_count": 11,
   "metadata": {},
   "outputs": [
    {
     "name": "stdout",
     "output_type": "stream",
     "text": [
      "Confusion Matrix:\n",
      "[[55030     3]\n",
      " [ 1703  2448]]\n",
      "\n",
      "Accuracy: 0.9711746417950797\n"
     ]
    }
   ],
   "source": [
    "# Split the data into training and testing sets\n",
    "X_train, X_test, y_train, y_test = train_test_split(X, y, test_size=0.2, random_state=42)\n",
    "\n",
    "# Instantiate a StandardScaler instance\n",
    "\n",
    "scaler = StandardScaler()\n",
    "\n",
    "# Fit the training data to the standard scaler\n",
    "X_scaler = scaler.fit(X_train)\n",
    "\n",
    "# Transform the training data using the scaler\n",
    "X_train_scaled = X_scaler.transform(X_train)\n",
    "\n",
    "# Transform the testing data using the scaler\n",
    "X_test_scaled = X_scaler.transform(X_test)\n",
    "\n",
    "# Initialize the RandomForestClassifier\n",
    "model = RandomForestClassifier(n_estimators=100, random_state=42)\n",
    "\n",
    "# Train the model\n",
    "model.fit(X_train_scaled, y_train)\n",
    "\n",
    "# Get probability outputs for the test set\n",
    "probabilities = model.predict_proba(X_test_scaled)\n",
    "\n",
    "# Extract the probability of the positive class (class 1)\n",
    "positive_class_probabilities = probabilities[:, 1]\n",
    "\n",
    "# Define a threshold to make binary predictions\n",
    "threshold = 0.5\n",
    "binary_predictions = (positive_class_probabilities > threshold).astype(int)\n",
    "\n",
    "# Calculate the confusion matrix\n",
    "conf_matrix = confusion_matrix(y_test, binary_predictions)\n",
    "\n",
    "# Calculate accuracy\n",
    "accuracy = accuracy_score(y_test, binary_predictions)\n",
    "\n",
    "# Print the confusion matrix and accuracy\n",
    "print(\"Confusion Matrix:\")\n",
    "print(conf_matrix)\n",
    "print(\"\\nAccuracy:\", accuracy)"
   ]
  },
  {
   "cell_type": "code",
   "execution_count": 12,
   "metadata": {},
   "outputs": [
    {
     "name": "stdout",
     "output_type": "stream",
     "text": [
      "\n",
      "Classification Report:\n",
      "              precision    recall  f1-score   support\n",
      "\n",
      "           0       0.97      1.00      0.98     55033\n",
      "           1       1.00      0.59      0.74      4151\n",
      "\n",
      "    accuracy                           0.97     59184\n",
      "   macro avg       0.98      0.79      0.86     59184\n",
      "weighted avg       0.97      0.97      0.97     59184\n",
      "\n"
     ]
    }
   ],
   "source": [
    "report = classification_report(y_test, binary_predictions)\n",
    "print(\"\\nClassification Report:\")\n",
    "print(report)"
   ]
  },
  {
   "cell_type": "code",
   "execution_count": 13,
   "metadata": {},
   "outputs": [
    {
     "name": "stdout",
     "output_type": "stream",
     "text": [
      "       SK_ID_CURR  Probability     Risk Level\n",
      "0          100002         0.13  Very Low Risk\n",
      "1          100007         0.00  Very Low Risk\n",
      "2          100008         0.03  Very Low Risk\n",
      "3          100009         0.05  Very Low Risk\n",
      "4          100011         0.06  Very Low Risk\n",
      "...           ...          ...            ...\n",
      "37591      216069         0.10  Very Low Risk\n",
      "37592      216075         0.12  Very Low Risk\n",
      "37593      216077         0.04  Very Low Risk\n",
      "37594      216080         0.28       Low Risk\n",
      "37595      216085         0.20  Very Low Risk\n",
      "\n",
      "[37596 rows x 3 columns]\n"
     ]
    }
   ],
   "source": [
    "# Extract the probability of the positive class (class 1)\n",
    "positive_class_probabilities = probabilities[:, 1]\n",
    "\n",
    "# Define custom thresholds for each class\n",
    "thresholds = [0.2, 0.4, 0.6, 0.8]\n",
    "\n",
    "# Classify into 5 classes based on custom thresholds\n",
    "risk_levels = pd.cut(positive_class_probabilities, bins=[-float('inf')] + thresholds + [float('inf')],\n",
    "                     labels=['Very Low Risk', 'Low Risk', 'Medium Risk', 'High Risk', 'Very High Risk'], include_lowest=True)\n",
    "\n",
    "# Create a DataFrame with 'SK_ID_CURR', probability, and risk level\n",
    "result_df = pd.DataFrame({'SK_ID_CURR': X_test['SK_ID_CURR'],'Probability': positive_class_probabilities, 'Risk Level': risk_levels})\n",
    "result_df.sort_values(by='SK_ID_CURR', ascending=True, inplace=True)\n",
    "result_df = result_df.drop_duplicates()\n",
    "result_df = result_df.reset_index(drop=True)\n",
    "# Print the result DataFrame\n",
    "print(result_df)"
   ]
  },
  {
   "cell_type": "code",
   "execution_count": 14,
   "metadata": {},
   "outputs": [
    {
     "data": {
      "text/plain": [
       "0                             SK_ID_CURR\n",
       "1                          AMT_ANNUITY_x\n",
       "2                          DAYS_EMPLOYED\n",
       "3                             AMT_CREDIT\n",
       "4                       AMT_INCOME_TOTAL\n",
       "5                        AMT_GOODS_PRICE\n",
       "6             AMT_REQ_CREDIT_BUREAU_YEAR\n",
       "7                     DAYS_ENTRY_PAYMENT\n",
       "8                            AMT_PAYMENT\n",
       "9                         AMT_INSTALMENT\n",
       "10                       DAYS_INSTALMENT\n",
       "11                       CNT_FAM_MEMBERS\n",
       "12              OBS_30_CNT_SOCIAL_CIRCLE\n",
       "13              OBS_60_CNT_SOCIAL_CIRCLE\n",
       "14                 NUM_INSTALMENT_NUMBER\n",
       "15                 CNT_INSTALMENT_FUTURE\n",
       "16             CNT_INSTALMENT_MATURE_CUM\n",
       "17    MONTHS_BALANCE_Credit_card_balance\n",
       "18                      MONTHS_BALANCE_x\n",
       "19                        CNT_INSTALMENT\n",
       "Name: 1, dtype: object"
      ]
     },
     "execution_count": 14,
     "metadata": {},
     "output_type": "execute_result"
    }
   ],
   "source": [
    "# Random Forests in sklearn will automatically calculate feature importance\n",
    "importances = model.feature_importances_\n",
    "# We can sort the features by their importance\n",
    "importances_sorted = sorted(zip(model.feature_importances_, X.columns), reverse=True)\n",
    "importances_sorted = importances_sorted[:30]\n",
    "sorted_df = pd.DataFrame(importances_sorted)\n",
    "sorted_df[1]"
   ]
  },
  {
   "cell_type": "code",
   "execution_count": 15,
   "metadata": {},
   "outputs": [
    {
     "data": {
      "text/plain": [
       "<Axes: title={'center': 'Features Importances'}, ylabel='1'>"
      ]
     },
     "execution_count": 15,
     "metadata": {},
     "output_type": "execute_result"
    },
    {
     "data": {
      "image/png": "[encoded data removed]",
      "text/plain": [
       "<Figure size 640x480 with 1 Axes>"
      ]
     },
     "metadata": {},
     "output_type": "display_data"
    }
   ],
   "source": [
    "sorted_df.set_index(sorted_df[1], inplace=True)\n",
    "sorted_df.drop(columns=1, inplace=True)\n",
    "sorted_df.rename(columns={0: 'Feature Importances'}, inplace=True)\n",
    "importances_sorted = sorted_df.sort_values(by='Feature Importances')\n",
    "importances_sorted.plot(kind='barh', color='lightgreen', title= 'Features Importances', legend=False)"
   ]
  },
  {
   "cell_type": "code",
   "execution_count": 16,
   "metadata": {},
   "outputs": [],
   "source": [
    "# Selecting X features\n",
    "X  = data_df[[\n",
    "                     \"AMT_ANNUITY_x\",\n",
    "                     \"SK_ID_CURR\",\n",
    "                     \"AMT_CREDIT\",\n",
    "                     \"DAYS_EMPLOYED\",\n",
    "                     \"AMT_GOODS_PRICE\",\n",
    "                     \"AMT_INCOME_TOTAL\",\n",
    "                     \"AMT_REQ_CREDIT_BUREAU_YEAR\",\n",
    "                     \"OBS_30_CNT_SOCIAL_CIRCLE\",\n",
    "                     \"OBS_60_CNT_SOCIAL_CIRCLE\",\n",
    "                     \"AMT_PAYMENT\",\n",
    "                     \"DAYS_ENTRY_PAYMENT\",\n",
    "                     \"AMT_INSTALMENT\",\n",
    "                     \"DAYS_INSTALMENT\",\n",
    "                     \"NUM_INSTALMENT_NUMBER\",\n",
    "                     \"CNT_INSTALMENT_FUTURE\",\n",
    "                     \"MONTHS_BALANCE_x\",\n",
    "                     \"CNT_FAM_MEMBERS\",\n",
    "                     \"CNT_INSTALMENT\",\n",
    "                     \"CNT_INSTALMENT_MATURE_CUM\",\n",
    "                     \"MONTHS_BALANCE_Credit_card_balance\"]]"
   ]
  },
  {
   "cell_type": "code",
   "execution_count": 17,
   "metadata": {},
   "outputs": [],
   "source": [
    "X = X.fillna(0)"
   ]
  },
  {
   "cell_type": "code",
   "execution_count": 18,
   "metadata": {},
   "outputs": [],
   "source": [
    "y = data_df['TARGET']"
   ]
  },
  {
   "cell_type": "code",
   "execution_count": 19,
   "metadata": {},
   "outputs": [
    {
     "name": "stdout",
     "output_type": "stream",
     "text": [
      "Confusion Matrix:\n",
      "[[55031     2]\n",
      " [ 1705  2446]]\n",
      "\n",
      "Accuracy: 0.9711577453365775\n"
     ]
    }
   ],
   "source": [
    "# Split the data into training and testing sets\n",
    "X_train, X_test, y_train, y_test = train_test_split(X, y, test_size=0.2, random_state=42)\n",
    "\n",
    "# Instantiate a StandardScaler instance\n",
    "scaler = StandardScaler()\n",
    "\n",
    "# Fit the training data to the standard scaler\n",
    "X_scaler = scaler.fit(X_train)\n",
    "\n",
    "# Transform the training data using the scaler\n",
    "X_train_scaled = X_scaler.transform(X_train)\n",
    "\n",
    "# Transform the testing data using the scaler\n",
    "X_test_scaled = X_scaler.transform(X_test)\n",
    "\n",
    "# Initialize the RandomForestClassifier\n",
    "model = RandomForestClassifier(n_estimators=100, random_state=42)\n",
    "\n",
    "# Train the model\n",
    "model.fit(X_train_scaled, y_train)\n",
    "\n",
    "# Get probability outputs for the test set\n",
    "probabilities = model.predict_proba(X_test_scaled)\n",
    "\n",
    "# Extract the probability of the positive class (class 1)\n",
    "positive_class_probabilities = probabilities[:, 1]\n",
    "\n",
    "# Define a threshold to make binary predictions\n",
    "threshold = 0.5\n",
    "binary_predictions = (positive_class_probabilities > threshold).astype(int)\n",
    "\n",
    "# Calculate the confusion matrix\n",
    "conf_matrix = confusion_matrix(y_test, binary_predictions)\n",
    "\n",
    "# Calculate accuracy\n",
    "accuracy = accuracy_score(y_test, binary_predictions)\n",
    "\n",
    "# Print the confusion matrix and accuracy\n",
    "print(\"Confusion Matrix:\")\n",
    "print(conf_matrix)\n",
    "print(\"\\nAccuracy:\", accuracy)"
   ]
  },
  {
   "cell_type": "code",
   "execution_count": 20,
   "metadata": {},
   "outputs": [
    {
     "name": "stdout",
     "output_type": "stream",
     "text": [
      "\n",
      "Classification Report:\n",
      "              precision    recall  f1-score   support\n",
      "\n",
      "           0       0.97      1.00      0.98     55033\n",
      "           1       1.00      0.59      0.74      4151\n",
      "\n",
      "    accuracy                           0.97     59184\n",
      "   macro avg       0.98      0.79      0.86     59184\n",
      "weighted avg       0.97      0.97      0.97     59184\n",
      "\n"
     ]
    }
   ],
   "source": [
    "report = classification_report(y_test, binary_predictions)\n",
    "print(\"\\nClassification Report:\")\n",
    "print(report)"
   ]
  },
  {
   "cell_type": "code",
   "execution_count": 21,
   "metadata": {},
   "outputs": [
    {
     "data": {
      "text/plain": [
       "['model_probability1.joblib']"
      ]
     },
     "execution_count": 21,
     "metadata": {},
     "output_type": "execute_result"
    }
   ],
   "source": [
    "import joblib\n",
    "joblib.dump(model, 'model_probability1.joblib')"
   ]
  },
  {
   "cell_type": "code",
   "execution_count": 22,
   "metadata": {},
   "outputs": [
    {
     "name": "stdout",
     "output_type": "stream",
     "text": [
      "Random Forest RMSE: 0.21798580636574888\n",
      "XGBoost RMSE: 0.2898705546802953\n"
     ]
    }
   ],
   "source": [
    "\n",
    "import numpy as np\n",
    "from sklearn.model_selection import train_test_split\n",
    "from sklearn.ensemble import RandomForestRegressor\n",
    "from xgboost import XGBRegressor\n",
    "from sklearn.metrics import mean_squared_error\n",
    "from math import sqrt\n",
    "\n",
    "# Assuming you have a dataset with features (X) and pricing target variable (y)\n",
    "# Replace X, y with your actual dataset\n",
    "\n",
    "# Generate some sample data\n",
    "np.random.seed(42)\n",
    "\n",
    "X = np.random.rand(100, 5)\n",
    "y = 3 * X[:, 0] + 2 * X[:, 1] - X[:, 2] + np.random.randn(100) * 0.1  # Sample pricing\n",
    "\n",
    "# Split the dataset into training and testing sets\n",
    "X_train, X_test, y_train, y_test = train_test_split(X, y, test_size=0.2, random_state=42)\n",
    "\n",
    "# Instantiate a StandardScaler instance\n",
    "\n",
    "scaler = StandardScaler()\n",
    "\n",
    "# Fit the training data to the standard scaler\n",
    "X_scaler = scaler.fit(X_train)\n",
    "\n",
    "# Transform the training data using the scaler\n",
    "X_train_scaled = X_scaler.transform(X_train)\n",
    "\n",
    "# Transform the testing data using the scaler\n",
    "X_test_scaled = X_scaler.transform(X_test)\n",
    "\n",
    "# Train Random Forest model\n",
    "rf_model = RandomForestRegressor(n_estimators=100, random_state=42)\n",
    "rf_model.fit(X_train_scaled, y_train)\n",
    "\n",
    "# Predict with Random Forest\n",
    "rf_predictions = rf_model.predict(X_test_scaled)\n",
    "\n",
    "# Calculate RMSE for Random Forest\n",
    "rf_rmse = sqrt(mean_squared_error(y_test, rf_predictions))\n",
    "print(f\"Random Forest RMSE: {rf_rmse}\")\n",
    "\n",
    "# Train XGBoost model\n",
    "xgb_model = XGBRegressor(n_estimators=100, random_state=42)\n",
    "xgb_model.fit(X_train, y_train)\n",
    "\n",
    "# Predict with XGBoost\n",
    "xgb_predictions = xgb_model.predict(X_test)\n",
    "\n",
    "# Calculate RMSE for XGBoost\n",
    "xgb_rmse = sqrt(mean_squared_error(y_test, xgb_predictions))\n",
    "print(f\"XGBoost RMSE: {xgb_rmse}\")\n"
   ]
  },
  {
   "cell_type": "code",
   "execution_count": 23,
   "metadata": {},
   "outputs": [],
   "source": [
    "# Selecting X features\n",
    "X  = data_df[[\n",
    "                     \"AMT_ANNUITY_x\",\n",
    "                     \"SK_ID_CURR\",\n",
    "                     \"AMT_CREDIT\",\n",
    "                     \"DAYS_EMPLOYED\",\n",
    "                     \"AMT_GOODS_PRICE\",\n",
    "                     \"AMT_INCOME_TOTAL\",\n",
    "                     \"AMT_REQ_CREDIT_BUREAU_YEAR\",\n",
    "                     \"OBS_30_CNT_SOCIAL_CIRCLE\",\n",
    "                     \"OBS_60_CNT_SOCIAL_CIRCLE\",\n",
    "                     \"AMT_PAYMENT\",\n",
    "                     \"DAYS_ENTRY_PAYMENT\",\n",
    "                     \"AMT_INSTALMENT\",\n",
    "                     \"DAYS_INSTALMENT\",\n",
    "                     \"NUM_INSTALMENT_NUMBER\",\n",
    "                     \"CNT_INSTALMENT_FUTURE\",\n",
    "                     \"MONTHS_BALANCE_x\",\n",
    "                     \"CNT_FAM_MEMBERS\",\n",
    "                     \"CNT_INSTALMENT\",\n",
    "                     \"CNT_INSTALMENT_MATURE_CUM\",\n",
    "                     \"MONTHS_BALANCE_Credit_card_balance\"]]"
   ]
  },
  {
   "cell_type": "code",
   "execution_count": 24,
   "metadata": {},
   "outputs": [],
   "source": [
    "y = data_df[\"AMT_CREDIT\"]"
   ]
  },
  {
   "cell_type": "code",
   "execution_count": 25,
   "metadata": {},
   "outputs": [],
   "source": [
    "import pandas as pd\n",
    "from sklearn.ensemble import RandomForestRegressor\n",
    "from sklearn.model_selection import train_test_split\n",
    "from sklearn.preprocessing import StandardScaler\n",
    "\n",
    "# Split the dataset into training and testing sets\n",
    "X_train, X_test, y_train, y_test = train_test_split(X, y, test_size=0.2, random_state=42)\n",
    "\n",
    "# Instantiate a StandardScaler instance\n",
    "scaler = StandardScaler()\n",
    "\n",
    "# Fit the training data to the standard scaler and transform the data\n",
    "X_train_scaled = pd.DataFrame(scaler.fit_transform(X_train), columns=X_train.columns)\n",
    "X_test_scaled = pd.DataFrame(scaler.transform(X_test), columns=X_test.columns)\n",
    "\n",
    "# Convert categorical columns to dummy variables\n",
    "X_train_dummy = pd.get_dummies(X_train_scaled).astype(int)\n",
    "X_test_dummy = pd.get_dummies(X_test_scaled).astype(int)\n",
    "\n",
    "# Train a RandomForestRegressor\n",
    "rf_model = RandomForestRegressor(n_estimators=100, random_state=42)\n",
    "rf_model.fit(X_train_dummy, y_train)\n",
    "\n",
    "# Predict on the test set\n",
    "predictions = rf_model.predict(X_test_dummy)\n",
    "\n"
   ]
  },
  {
   "cell_type": "code",
   "execution_count": 26,
   "metadata": {},
   "outputs": [
    {
     "name": "stdout",
     "output_type": "stream",
     "text": [
      "       Actual Values  Predicted Prices\n",
      "0             156384            174792\n",
      "1             808650            555435\n",
      "2             270000            279748\n",
      "3             765000            438942\n",
      "4             765000            555435\n",
      "...              ...               ...\n",
      "59179         180000            151258\n",
      "59180         152820            152820\n",
      "59181         450000            609016\n",
      "59182         454500            661165\n",
      "59183         755190            607646\n",
      "\n",
      "[59184 rows x 2 columns]\n"
     ]
    }
   ],
   "source": [
    "# Create a DataFrame with actual and predicted values\n",
    "result_df = pd.DataFrame({'Actual Values': y_test.astype(int), 'Predicted Prices': predictions.astype(int)}).reset_index(drop=True)\n",
    "\n",
    "# Display the result DataFrame without scientific notation\n",
    "pd.set_option('display.float_format', lambda x: '%.3f' % x)\n",
    "print(result_df)"
   ]
  },
  {
   "cell_type": "code",
   "execution_count": 27,
   "metadata": {},
   "outputs": [
    {
     "data": {
      "text/plain": [
       "['model_amount1.joblib']"
      ]
     },
     "execution_count": 27,
     "metadata": {},
     "output_type": "execute_result"
    }
   ],
   "source": [
    "# Prediction model for joblib dump\n",
    "joblib.dump(model, 'model_amount1.joblib')"
   ]
  }
 ],
 "metadata": {
  "kernelspec": {
   "display_name": "base",
   "language": "python",
   "name": "python3"
  },
  "language_info": {
   "codemirror_mode": {
    "name": "ipython",
    "version": 3
   },
   "file_extension": ".py",
   "mimetype": "text/x-python",
   "name": "python",
   "nbconvert_exporter": "python",
   "pygments_lexer": "ipython3",
   "version": "3.10.13"
  }
 },
 "nbformat": 4,
 "nbformat_minor": 2
}
