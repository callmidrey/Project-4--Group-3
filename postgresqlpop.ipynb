{
 "cells": [
  {
   "cell_type": "code",
   "execution_count": 1,
   "metadata": {},
   "outputs": [],
   "source": [
    "# Import dependencies\n",
    "import pandas as pd\n",
    "import numpy as np\n",
    "pd.set_option('max_colwidth', 400)\n",
    "import psycopg2\n",
    "from pathlib import Path\n",
    "from sqlalchemy import create_engine, Text\n",
    "import csv\n",
    "import pandas as pd"
   ]
  },
  {
   "cell_type": "code",
   "execution_count": 32,
   "metadata": {},
   "outputs": [],
   "source": [
    "def execute_sql_file(file_path):\n",
    "    try:\n",
    "        # Establish a connection to PostgreSQL\n",
    "        conn_db = psycopg2.connect(\n",
    "            host=\"localhost\",        # Replace with your host (e.g., localhost)\n",
    "            port=\"5432\" ,    # Replace with your port (default is 5432)\n",
    "            database=\"postgres\",\n",
    "            user=\"postgres\",    # Replace with your username\n",
    "            password=\"postgres\"  # Replace with your password\n",
    "                   \n",
    "            )\n",
    "        # Create a cursor object using the connection\n",
    "        \n",
    "        conn_db.set_session(autocommit=True)\n",
    "        cur = conn_db.cursor()\n",
    "        # Query to create database\n",
    "        db = ''' CREATE database bank_db ''';\n",
    "        # Create database\n",
    "        cur.execute(db)\n",
    "        # Read the SQL file\n",
    "        with open(file_path, 'r') as file:\n",
    "            sql_commands = file.read()\n",
    "\n",
    "        # Execute the SQL commands\n",
    "        cur.execute(sql_commands)\n",
    "\n",
    "        # Commit the transaction\n",
    "        conn_db.commit()\n",
    "\n",
    "        print(\"Table created successfully from the SQL file.\")\n",
    "\n",
    "    except (Exception, psycopg2.DatabaseError) as error:\n",
    "        print(error)\n",
    "\n",
    "    finally:\n",
    "        # Close the cursor and connection\n",
    "        cur.close()\n",
    "        conn_db.close()\n",
    "\n",
    "# Call the function to execute SQL commands from the file\n"
   ]
  },
  {
   "cell_type": "code",
   "execution_count": 33,
   "metadata": {},
   "outputs": [
    {
     "name": "stdout",
     "output_type": "stream",
     "text": [
      "Table created successfully from the SQL file.\n"
     ]
    }
   ],
   "source": [
    "\n",
    "\n",
    "execute_sql_file(\"Final_Schema.sql\")  # Replace 'create_table_script.sql' with your SQL file path"
   ]
  },
  {
   "cell_type": "code",
   "execution_count": 19,
   "metadata": {},
   "outputs": [],
   "source": [
    "import csv\n",
    "import psycopg2\n",
    "from psycopg2 import sql, extras\n",
    "\n",
    "def import_data_from_csv(csv_file, table_name):\n",
    "    try:\n",
    "        # Establish a connection to PostgreSQL using a context manager\n",
    "        with psycopg2.connect(\n",
    "            \n",
    "            user=\"postgres\",\n",
    "            password=\"postgres\",\n",
    "            host='localhost',\n",
    "            dbname='bank_db',\n",
    "            port=\"5432\"\n",
    "        ) as conn_db:\n",
    "        \n",
    "            \n",
    "\n",
    "            # Create a cursor object using the connection\n",
    "            with conn_db.cursor() as cur:\n",
    "                # Open and read CSV file\n",
    "                with open(csv_file, 'r', newline='') as csvfile:\n",
    "                    reader = csv.reader(csvfile)\n",
    "                    header = next(reader)  # Get the column names from the first row\n",
    "\n",
    "                    # Prepare SQL query to insert data into the specified table using execute_values\n",
    "                    insert_query = sql.SQL(\"INSERT INTO {} ({}) VALUES %s\").format(\n",
    "                        sql.Identifier(table_name),\n",
    "                        sql.SQL(',').join(map(sql.Identifier, header))\n",
    "                    )\n",
    "                    # # Replace empty strings with None\n",
    "                    # data = [[0 if value == '' else value for value in row] for row in reader]\n",
    "                    # Convert CSV data to list of tuples\n",
    "                    data = [tuple(row) for row in reader]\n",
    "                    # Insert data into the table\n",
    "                    extras.execute_values(cur, insert_query, data)\n",
    "\n",
    "\n",
    "                # Commit the transaction\n",
    "                conn_db.commit()\n",
    "                \n",
    "                \n",
    "        print(\"Data imported successfully from the CSV file.\")\n",
    "        \n",
    "\n",
    "    except psycopg2.Error as error:\n",
    "        print(error)\n",
    "\n",
    "    \n",
    "\n",
    "\n",
    "    "
   ]
  },
  {
   "cell_type": "code",
   "execution_count": 20,
   "metadata": {},
   "outputs": [
    {
     "name": "stdout",
     "output_type": "stream",
     "text": [
      "invalid input syntax for type double precision: \"\"\n",
      "LINE 1: ...9','Cash loans','25188.615','607500.0','679671.0','','607500...\n",
      "                                                             ^\n",
      "\n"
     ]
    }
   ],
   "source": [
    "\n",
    "import_data_from_csv('Resources/previous_application_clean.csv', 'previous_application')"
   ]
  },
  {
   "cell_type": "code",
   "execution_count": null,
   "metadata": {},
   "outputs": [],
   "source": [
    "import_data_from_csv('Resources/POS_CASH_balance_clean.csv', 'pos_cash_balance')"
   ]
  },
  {
   "cell_type": "code",
   "execution_count": null,
   "metadata": {},
   "outputs": [],
   "source": [
    "import_data_from_csv('Resources/bureau_clean.csv', 'bureau')"
   ]
  },
  {
   "cell_type": "code",
   "execution_count": null,
   "metadata": {},
   "outputs": [],
   "source": [
    "import_data_from_csv('Resources/bureau_balance_clean.csv', 'bureau_balance')"
   ]
  },
  {
   "cell_type": "code",
   "execution_count": null,
   "metadata": {},
   "outputs": [],
   "source": [
    "import_data_from_csv('Resources/credit_card_balance_clean.csv', 'credit_card_balance')"
   ]
  },
  {
   "cell_type": "code",
   "execution_count": null,
   "metadata": {},
   "outputs": [],
   "source": [
    "import_data_from_csv('Resources/clean_train_clean.csv', 'application_train')"
   ]
  },
  {
   "cell_type": "code",
   "execution_count": null,
   "metadata": {},
   "outputs": [],
   "source": [
    "import_data_from_csv('Resources/installments_payments_clean.csv', 'installments_payments')"
   ]
  }
 ],
 "metadata": {
  "kernelspec": {
   "display_name": "base",
   "language": "python",
   "name": "python3"
  },
  "language_info": {
   "codemirror_mode": {
    "name": "ipython",
    "version": 3
   },
   "file_extension": ".py",
   "mimetype": "text/x-python",
   "name": "python",
   "nbconvert_exporter": "python",
   "pygments_lexer": "ipython3",
   "version": "3.10.13"
  }
 },
 "nbformat": 4,
 "nbformat_minor": 2
}
