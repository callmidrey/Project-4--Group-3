{
 "cells": [
  {
   "cell_type": "code",
   "execution_count": 1,
   "metadata": {},
   "outputs": [],
   "source": [
    "# Import denpendecies\n",
    "import requests\n",
    "import pandas as pd\n",
    "from sklearn.ensemble import RandomForestClassifier, RandomForestRegressor\n",
    "from sklearn.model_selection import train_test_split\n",
    "from sklearn.metrics import confusion_matrix, accuracy_score,classification_report,mean_squared_error\n",
    "from sklearn.preprocessing import StandardScaler\n",
    "import matplotlib.pyplot as plt\n",
    "import seaborn as sns\n",
    "import numpy as np"
   ]
  },
  {
   "cell_type": "markdown",
   "metadata": {},
   "source": [
    "## Extracting data from Postgres using APIs"
   ]
  },
  {
   "cell_type": "code",
   "execution_count": 2,
   "metadata": {},
   "outputs": [
    {
     "name": "stdout",
     "output_type": "stream",
     "text": [
      "Data for Bureau fetched successfully.\n",
      "Data for Bureau_balance fetched successfully.\n",
      "Data for Credit_card_balance fetched successfully.\n",
      "Data for Installments_payments fetched successfully.\n",
      "Data for POS_CASH_balance fetched successfully.\n",
      "Data for Previous_application fetched successfully.\n",
      "Data for Application_train fetched successfully.\n"
     ]
    }
   ],
   "source": [
    "# Define a list of table names and their corresponding API endpoints\n",
    "tables = {\n",
    "            \n",
    "        \"Bureau\" : 'http://127.0.0.1:5000/bureau',\n",
    "        \"Bureau_balance\" : 'http://127.0.0.1:5000/bureau_balance',\n",
    "        \"Credit_card_balance\" : 'http://127.0.0.1:5000/credit_card_balance',\n",
    "        \"Installments_payments\" : 'http://127.0.0.1:5000/installments_payments',\n",
    "        \"POS_CASH_balance\" : 'http://127.0.0.1:5000/pOS_CASH_balance',\n",
    "        \"Previous_application\" : 'http://127.0.0.1:5000/previous_application',\n",
    "        \"Application_train\" : 'http://127.0.0.1:5000/application_train'\n",
    "}\n",
    "\n",
    "# Dictionary to store DataFrames for each table\n",
    "dataframes = {}\n",
    "\n",
    "# Make API requests to get data from each table\n",
    "for table_name, endpoint in tables.items():\n",
    "    response = requests.get(endpoint)\n",
    "\n",
    "    # Check if the request was successful (status code 200)\n",
    "    if response.status_code == 200:\n",
    "        # Convert API response to a DataFrame and store it in the dictionary\n",
    "        dataframes[table_name] = pd.DataFrame(response.json())\n",
    "        print(f\"Data for {table_name} fetched successfully.\")\n",
    "    else:\n",
    "        print(f\"Error: Unable to fetch data from {table_name}. Status code: {response.status_code}\")"
   ]
  },
  {
   "cell_type": "markdown",
   "metadata": {},
   "source": [
    "## Combining DataFrames"
   ]
  },
  {
   "cell_type": "code",
   "execution_count": 3,
   "metadata": {},
   "outputs": [
    {
     "name": "stdout",
     "output_type": "stream",
     "text": [
      "   AMT_ANNUITY_x  AMT_CREDIT  AMT_GOODS_PRICE  AMT_INCOME_TOTAL  \\\n",
      "0        24700.5    406597.5         351000.0          202500.0   \n",
      "1        35698.5   1293502.5        1129500.0          270000.0   \n",
      "2         6750.0    135000.0         135000.0           67500.0   \n",
      "3        29686.5    312682.5         297000.0          135000.0   \n",
      "4        21865.5    513000.0         513000.0          121500.0   \n",
      "\n",
      "   AMT_REQ_CREDIT_BUREAU_DAY  AMT_REQ_CREDIT_BUREAU_HOUR  \\\n",
      "0                      0.000                    0.000000   \n",
      "1                      0.000                    0.000000   \n",
      "2                      0.000                    0.000000   \n",
      "3                      0.007                    0.006403   \n",
      "4                      0.000                    0.000000   \n",
      "\n",
      "   AMT_REQ_CREDIT_BUREAU_MON  AMT_REQ_CREDIT_BUREAU_QRT  \\\n",
      "0                   0.000000                   0.000000   \n",
      "1                   0.000000                   0.000000   \n",
      "2                   0.000000                   0.000000   \n",
      "3                   0.267398                   0.265477   \n",
      "4                   0.000000                   0.000000   \n",
      "\n",
      "   AMT_REQ_CREDIT_BUREAU_WEEK  AMT_REQ_CREDIT_BUREAU_YEAR  ...  \\\n",
      "0                    0.000000                    1.000000  ...   \n",
      "1                    0.000000                    0.000000  ...   \n",
      "2                    0.000000                    0.000000  ...   \n",
      "3                    0.034359                    1.899977  ...   \n",
      "4                    0.000000                    0.000000  ...   \n",
      "\n",
      "   CREDIT_CURRENCY  CREDIT_DAY_OVERDUE CREDIT_TYPE  DAYS_CREDIT  \\\n",
      "0              NaN                 NaN         NaN          NaN   \n",
      "1              NaN                 NaN         NaN          NaN   \n",
      "2              NaN                 NaN         NaN          NaN   \n",
      "3              NaN                 NaN         NaN          NaN   \n",
      "4              NaN                 NaN         NaN          NaN   \n",
      "\n",
      "   DAYS_CREDIT_ENDDATE  DAYS_CREDIT_UPDATE  DAYS_ENDDATE_FACT  SK_ID_BUREAU  \\\n",
      "0                  NaN                 NaN                NaN           NaN   \n",
      "1                  NaN                 NaN                NaN           NaN   \n",
      "2                  NaN                 NaN                NaN           NaN   \n",
      "3                  NaN                 NaN                NaN           NaN   \n",
      "4                  NaN                 NaN                NaN           NaN   \n",
      "\n",
      "   MONTHS_BALANCE_y  STATUS  \n",
      "0               NaN     NaN  \n",
      "1               NaN     NaN  \n",
      "2               NaN     NaN  \n",
      "3               NaN     NaN  \n",
      "4               NaN     NaN  \n",
      "\n",
      "[5 rows x 140 columns]\n"
     ]
    }
   ],
   "source": [
    "# Merge tables based on specified keys\n",
    "merged_table = dataframes[\"Application_train\"]\n",
    "\n",
    "# Merge POS_CASH_balance, Installments_payments, Credit_card_balance based on SK_ID_PREV\n",
    "for table_name in [\"POS_CASH_balance\", \"Installments_payments\", \"Credit_card_balance\", \"Previous_application\"]:\n",
    "    if table_name in dataframes:\n",
    "        # Specify suffixes to avoid duplicate column names\n",
    "        merged_table = pd.merge(merged_table, dataframes[table_name], on='SK_ID_CURR', how='left', suffixes=('', f'_{table_name}'))\n",
    "\n",
    "# Merge Bureau and Bureau_balance based on SK_ID_BUREAU\n",
    "if \"Bureau\" in dataframes and \"Bureau_balance\" in dataframes:\n",
    "    bureau_merged = pd.merge(dataframes[\"Bureau\"], dataframes[\"Bureau_balance\"], on='SK_ID_BUREAU', how='left', suffixes=('_bureau', '_bureau_balance'))\n",
    "    merged_table = pd.merge(merged_table, bureau_merged, on='SK_ID_CURR', how='left')\n",
    "\n",
    "# Display the final merged table with unique columns\n",
    "unique_columns = merged_table.columns.unique()\n",
    "final_table = merged_table[unique_columns]\n",
    "\n",
    "# Display the final table\n",
    "print(final_table.head())"
   ]
  },
  {
   "cell_type": "markdown",
   "metadata": {},
   "source": [
    "## Cleaning & Encoding categorical variables"
   ]
  },
  {
   "cell_type": "code",
   "execution_count": 4,
   "metadata": {},
   "outputs": [],
   "source": [
    "# Drop duplicate values\n",
    "data_df = final_table.drop_duplicates()"
   ]
  },
  {
   "cell_type": "code",
   "execution_count": 5,
   "metadata": {},
   "outputs": [],
   "source": [
    "# Fill na with (0)\n",
    "data_df=data_df.fillna(0)"
   ]
  },
  {
   "cell_type": "code",
   "execution_count": 6,
   "metadata": {},
   "outputs": [],
   "source": [
    "# Changing CODE_GENDER to 0 and 1 to match model\n",
    "data_df['CODE_GENDER'] = data_df['CODE_GENDER'].replace({'F': 0, 'M': 1})"
   ]
  },
  {
   "cell_type": "code",
   "execution_count": 7,
   "metadata": {},
   "outputs": [],
   "source": [
    "# Changing FLAG_OWN_REALTY AND FLAG_OWN_CAR to 0 and 1 to match model\n",
    "data_df[['FLAG_OWN_REALTY', 'FLAG_OWN_CAR']] = data_df[['FLAG_OWN_REALTY', 'FLAG_OWN_CAR']].replace({'Y': 1, 'N': 0}).astype(int)"
   ]
  },
  {
   "cell_type": "markdown",
   "metadata": {},
   "source": [
    "## Assigning Values to X and y"
   ]
  },
  {
   "cell_type": "code",
   "execution_count": 8,
   "metadata": {},
   "outputs": [],
   "source": [
    "# Selecting X features\n",
    "X = data_df.drop(columns=['TARGET'], axis=1)"
   ]
  },
  {
   "cell_type": "code",
   "execution_count": 9,
   "metadata": {},
   "outputs": [],
   "source": [
    "# Convert categorical variables to dummy/indicator variables\n",
    "X = pd.get_dummies(X).astype(int)"
   ]
  },
  {
   "cell_type": "code",
   "execution_count": 10,
   "metadata": {},
   "outputs": [],
   "source": [
    "# select Target variable\n",
    "y = data_df['TARGET'].values"
   ]
  },
  {
   "cell_type": "markdown",
   "metadata": {},
   "source": [
    "## Machine learning model: Randon Forest Classifier"
   ]
  },
  {
   "cell_type": "code",
   "execution_count": 11,
   "metadata": {},
   "outputs": [
    {
     "name": "stdout",
     "output_type": "stream",
     "text": [
      "Confusion Matrix:\n",
      "[[54948     0]\n",
      " [ 1591  2644]]\n",
      "\n",
      "Accuracy: 0.9731172803000862\n"
     ]
    }
   ],
   "source": [
    "# Split the data into training and testing sets\n",
    "X_train, X_test, y_train, y_test = train_test_split(X, y, test_size=0.2, random_state=42)\n",
    "\n",
    "# Instantiate a StandardScaler instance\n",
    "\n",
    "scaler = StandardScaler()\n",
    "\n",
    "# Fit the training data to the standard scaler\n",
    "X_scaler = scaler.fit(X_train)\n",
    "\n",
    "# Transform the training data using the scaler\n",
    "X_train_scaled = X_scaler.transform(X_train)\n",
    "\n",
    "# Transform the testing data using the scaler\n",
    "X_test_scaled = X_scaler.transform(X_test)\n",
    "\n",
    "# Initialize the RandomForestClassifier\n",
    "model = RandomForestClassifier(n_estimators=100, random_state=42)\n",
    "\n",
    "# Train the model\n",
    "model.fit(X_train_scaled, y_train)\n",
    "\n",
    "# Get probability outputs for the test set\n",
    "probabilities = model.predict_proba(X_test_scaled)\n",
    "\n",
    "# Extract the probability of the positive class (class 1)\n",
    "positive_class_probabilities = probabilities[:, 1]\n",
    "\n",
    "# Define a threshold to make binary predictions\n",
    "threshold = 0.5\n",
    "binary_predictions = (positive_class_probabilities > threshold).astype(int)\n",
    "\n",
    "# Calculate the confusion matrix\n",
    "conf_matrix = confusion_matrix(y_test, binary_predictions)\n",
    "\n",
    "# Calculate accuracy\n",
    "accuracy = accuracy_score(y_test, binary_predictions)\n",
    "\n",
    "# Print the confusion matrix and accuracy\n",
    "print(\"Confusion Matrix:\")\n",
    "print(conf_matrix)\n",
    "print(\"\\nAccuracy:\", accuracy)"
   ]
  },
  {
   "cell_type": "code",
   "execution_count": 12,
   "metadata": {},
   "outputs": [
    {
     "name": "stdout",
     "output_type": "stream",
     "text": [
      "\n",
      "Classification Report:\n",
      "              precision    recall  f1-score   support\n",
      "\n",
      "           0       0.97      1.00      0.99     54948\n",
      "           1       1.00      0.62      0.77      4235\n",
      "\n",
      "    accuracy                           0.97     59183\n",
      "   macro avg       0.99      0.81      0.88     59183\n",
      "weighted avg       0.97      0.97      0.97     59183\n",
      "\n"
     ]
    }
   ],
   "source": [
    "report = classification_report(y_test, binary_predictions)\n",
    "print(\"\\nClassification Report:\")\n",
    "print(report)"
   ]
  },
  {
   "cell_type": "markdown",
   "metadata": {},
   "source": [
    "## Assigning risk levels"
   ]
  },
  {
   "cell_type": "code",
   "execution_count": 13,
   "metadata": {},
   "outputs": [
    {
     "name": "stdout",
     "output_type": "stream",
     "text": [
      "       SK_ID_CURR  Probability     Risk Level\n",
      "0          100002         0.21       Low Risk\n",
      "1          100007         0.00  Very Low Risk\n",
      "2          100008         0.02  Very Low Risk\n",
      "3          100009         0.03  Very Low Risk\n",
      "4          100011         0.02  Very Low Risk\n",
      "...           ...          ...            ...\n",
      "37532      216076         0.12  Very Low Risk\n",
      "37533      216081         0.17  Very Low Risk\n",
      "37534      216084         0.23       Low Risk\n",
      "37535      216085         0.09  Very Low Risk\n",
      "37536      216090         0.12  Very Low Risk\n",
      "\n",
      "[37537 rows x 3 columns]\n"
     ]
    }
   ],
   "source": [
    "# Extract the probability of the positive class (class 1)\n",
    "positive_class_probabilities = probabilities[:, 1]\n",
    "\n",
    "# Define custom thresholds for each class\n",
    "thresholds = [0.2, 0.4, 0.6, 0.8]\n",
    "\n",
    "# Classify into 5 classes based on custom thresholds\n",
    "risk_levels = pd.cut(positive_class_probabilities, bins=[-float('inf')] + thresholds + [float('inf')],\n",
    "                     labels=['Very Low Risk', 'Low Risk', 'Medium Risk', 'High Risk', 'Very High Risk'], include_lowest=True)\n",
    "\n",
    "# Create a DataFrame with 'SK_ID_CURR', probability, and risk level\n",
    "result_df = pd.DataFrame({'SK_ID_CURR': X_test['SK_ID_CURR'],'Probability': positive_class_probabilities, 'Risk Level': risk_levels})\n",
    "result_df.sort_values(by='SK_ID_CURR', ascending=True, inplace=True)\n",
    "result_df = result_df.drop_duplicates()\n",
    "result_df = result_df.reset_index(drop=True)\n",
    "# Print the result DataFrame\n",
    "print(result_df)"
   ]
  },
  {
   "cell_type": "markdown",
   "metadata": {},
   "source": [
    "## Top contributing features"
   ]
  },
  {
   "cell_type": "code",
   "execution_count": 14,
   "metadata": {},
   "outputs": [
    {
     "data": {
      "text/plain": [
       "0                    DAYS_REGISTRATION\n",
       "1                      DAYS_ID_PUBLISH\n",
       "2                           DAYS_BIRTH\n",
       "3                           SK_ID_CURR\n",
       "4               DAYS_LAST_PHONE_CHANGE\n",
       "5                        AMT_ANNUITY_x\n",
       "6                           AMT_CREDIT\n",
       "7                        DAYS_EMPLOYED\n",
       "8                      AMT_GOODS_PRICE\n",
       "9                     AMT_INCOME_TOTAL\n",
       "10             HOUR_APPR_PROCESS_START\n",
       "11          AMT_REQ_CREDIT_BUREAU_YEAR\n",
       "12            OBS_60_CNT_SOCIAL_CIRCLE\n",
       "13                  DAYS_ENTRY_PAYMENT\n",
       "14            OBS_30_CNT_SOCIAL_CIRCLE\n",
       "15                         OWN_CAR_AGE\n",
       "16    SK_ID_PREV_Installments_payments\n",
       "17      SK_ID_PREV_Credit_card_balance\n",
       "18                     DAYS_INSTALMENT\n",
       "19                      AMT_INSTALMENT\n",
       "20                         AMT_PAYMENT\n",
       "21               CNT_INSTALMENT_FUTURE\n",
       "22                        SK_ID_BUREAU\n",
       "23                      CNT_INSTALMENT\n",
       "24               NUM_INSTALMENT_NUMBER\n",
       "Name: 1, dtype: object"
      ]
     },
     "execution_count": 14,
     "metadata": {},
     "output_type": "execute_result"
    }
   ],
   "source": [
    "# Random Forests in sklearn will automatically calculate feature importance\n",
    "importances = model.feature_importances_\n",
    "# We can sort the features by their importance\n",
    "importances_sorted = sorted(zip(model.feature_importances_, X.columns), reverse=True)\n",
    "importances_sorted = importances_sorted[:25]\n",
    "sorted_df = pd.DataFrame(importances_sorted)\n",
    "sorted_df[1]"
   ]
  },
  {
   "cell_type": "code",
   "execution_count": 15,
   "metadata": {},
   "outputs": [
    {
     "data": {
      "text/plain": [
       "<Axes: title={'center': 'Features Importances'}, ylabel='1'>"
      ]
     },
     "execution_count": 15,
     "metadata": {},
     "output_type": "execute_result"
    },
    {
     "data": {
      "image/png": "[encoded data removed]",
      "text/plain": [
       "<Figure size 640x480 with 1 Axes>"
      ]
     },
     "metadata": {},
     "output_type": "display_data"
    }
   ],
   "source": [
    "sorted_df.set_index(sorted_df[1], inplace=True)\n",
    "sorted_df.drop(columns=1, inplace=True)\n",
    "sorted_df.rename(columns={0: 'Feature Importances'}, inplace=True)\n",
    "importances_sorted = sorted_df.sort_values(by='Feature Importances')\n",
    "importances_sorted.plot(kind='barh', color='lightgreen', title= 'Features Importances', legend=False)"
   ]
  },
  {
   "cell_type": "markdown",
   "metadata": {},
   "source": [
    "## Selecting top contributing features"
   ]
  },
  {
   "cell_type": "code",
   "execution_count": 16,
   "metadata": {},
   "outputs": [],
   "source": [
    "X  = data_df[[\n",
    "            \"SK_ID_CURR\", # ID of loan in our sample\n",
    "            \"DAYS_BIRTH\", #Client's age in days at the time of application\n",
    "            \"DAYS_REGISTRATION\", #How many days before the application did client change his registration\n",
    "            \"DAYS_ID_PUBLISH\", #How many days before the application did client change the identity document with which he applied for the loan\n",
    "            \"DAYS_LAST_PHONE_CHANGE\", #How many days before application did client change phone\n",
    "            \"AMT_ANNUITY_x\", #Loan annuity\n",
    "            \"AMT_CREDIT\", #Credit amount of the loan\n",
    "            \"DAYS_EMPLOYED\", # How many days before the application the person started current employment\n",
    "            \"AMT_INCOME_TOTAL\", #Income of the client\n",
    "            \"AMT_GOODS_PRICE\",#For consumer loans it is the price of the goods for which the loan is given\n",
    "            \"OWN_CAR_AGE\", #Age of client's car\n",
    "            \"CNT_FAM_MEMBERS\",# No. of family dependent family members\n",
    "            \"CNT_INSTALMENT_FUTURE\",# Installments left to pay on the previous credit\n",
    "            \"CNT_INSTALMENT\", #Term of previous credit (can change over time)\n",
    "            \"CNT_CHILDREN\", #Number of childeren applicant has\n",
    "            \"AMT_REQ_CREDIT_BUREAU_QRT\" #Number of enquiries to Credit Bureau about the client 3 month before application (excluding one month before application)\n",
    "]]"
   ]
  },
  {
   "cell_type": "code",
   "execution_count": 17,
   "metadata": {},
   "outputs": [],
   "source": [
    "# Fillna (0) in the selective features\n",
    "X_features = X.fillna(0)"
   ]
  },
  {
   "cell_type": "code",
   "execution_count": 18,
   "metadata": {},
   "outputs": [],
   "source": [
    "# Selective target variable\n",
    "y_features = data_df['TARGET']"
   ]
  },
  {
   "cell_type": "markdown",
   "metadata": {},
   "source": [
    "## Machine learning model: Random Forest Classifier"
   ]
  },
  {
   "cell_type": "code",
   "execution_count": 19,
   "metadata": {},
   "outputs": [
    {
     "name": "stdout",
     "output_type": "stream",
     "text": [
      "Confusion Matrix:\n",
      "[[54948     0]\n",
      " [ 1289  2946]]\n",
      "\n",
      "Accuracy: 0.9782200969873105\n"
     ]
    }
   ],
   "source": [
    "# Split the data into training and testing sets\n",
    "X_train, X_test, y_train, y_test = train_test_split(X_features, y_features, test_size=0.2, random_state=42)\n",
    "\n",
    "# Instantiate a StandardScaler instance\n",
    "scaler = StandardScaler()\n",
    "\n",
    "# Fit the training data to the standard scaler\n",
    "X_scaler = scaler.fit(X_train)\n",
    "\n",
    "# Transform the training data using the scaler\n",
    "X_train_scaled = X_scaler.transform(X_train)\n",
    "\n",
    "# Transform the testing data using the scaler\n",
    "X_test_scaled = X_scaler.transform(X_test)\n",
    "\n",
    "# Initialize the RandomForestClassifier\n",
    "model_features = RandomForestClassifier(n_estimators=100, random_state=42)\n",
    "\n",
    "# Train the model\n",
    "model_features.fit(X_train_scaled, y_train)\n",
    "\n",
    "# Get probability outputs for the test set\n",
    "probabilities_features = model_features.predict_proba(X_test_scaled)\n",
    "\n",
    "# Extract the probability of the positive class (class 1)\n",
    "positive_class_probabilities_features = probabilities_features[:, 1]\n",
    "\n",
    "# Define a threshold to make binary predictions\n",
    "threshold = 0.5\n",
    "binary_predictions_features = (positive_class_probabilities_features > threshold).astype(int)\n",
    "\n",
    "# Calculate the confusion matrix\n",
    "conf_matrix = confusion_matrix(y_test, binary_predictions_features)\n",
    "\n",
    "# Calculate accuracy\n",
    "accuracy = accuracy_score(y_test, binary_predictions_features)\n",
    "\n",
    "# Print the confusion matrix and accuracy\n",
    "print(\"Confusion Matrix:\")\n",
    "print(conf_matrix)\n",
    "print(\"\\nAccuracy:\", accuracy)"
   ]
  },
  {
   "cell_type": "code",
   "execution_count": 20,
   "metadata": {},
   "outputs": [
    {
     "name": "stdout",
     "output_type": "stream",
     "text": [
      "\n",
      "Classification Report:\n",
      "              precision    recall  f1-score   support\n",
      "\n",
      "           0       0.98      1.00      0.99     54948\n",
      "           1       1.00      0.70      0.82      4235\n",
      "\n",
      "    accuracy                           0.98     59183\n",
      "   macro avg       0.99      0.85      0.90     59183\n",
      "weighted avg       0.98      0.98      0.98     59183\n",
      "\n"
     ]
    }
   ],
   "source": [
    "report = classification_report(y_test, binary_predictions_features)\n",
    "print(\"\\nClassification Report:\")\n",
    "print(report)"
   ]
  },
  {
   "cell_type": "code",
   "execution_count": 21,
   "metadata": {},
   "outputs": [
    {
     "name": "stdout",
     "output_type": "stream",
     "text": [
      "       SK_ID_CURR  Probability     Risk Level\n",
      "0          100002         0.22       Low Risk\n",
      "1          100007         0.00  Very Low Risk\n",
      "2          100008         0.00  Very Low Risk\n",
      "3          100009         0.01  Very Low Risk\n",
      "4          100011         0.08  Very Low Risk\n",
      "...           ...          ...            ...\n",
      "31671      216076         0.19  Very Low Risk\n",
      "31672      216081         0.16  Very Low Risk\n",
      "31673      216084         0.19  Very Low Risk\n",
      "31674      216085         0.18  Very Low Risk\n",
      "31675      216090         0.19  Very Low Risk\n",
      "\n",
      "[31676 rows x 3 columns]\n"
     ]
    }
   ],
   "source": [
    "# Extract the probability of the positive class (class 1)\n",
    "positive_class_probabilities_features = probabilities_features[:, 1]\n",
    "\n",
    "# Define custom thresholds for each class\n",
    "thresholds = [0.2, 0.4, 0.6, 0.8]\n",
    "\n",
    "# Classify into 5 classes based on custom thresholds\n",
    "risk_levels_features = pd.cut(positive_class_probabilities_features, bins=[-float('inf')] + thresholds + [float('inf')],\n",
    "                     labels=['Very Low Risk', 'Low Risk', 'Medium Risk', 'High Risk', 'Very High Risk'], include_lowest=True)\n",
    "\n",
    "# Create a DataFrame with 'SK_ID_CURR', probability, and risk level\n",
    "result_df_features = pd.DataFrame({'SK_ID_CURR': X_test['SK_ID_CURR'],'Probability': positive_class_probabilities_features, 'Risk Level': risk_levels_features})\n",
    "result_df_features.sort_values(by='SK_ID_CURR', ascending=True, inplace=True)\n",
    "result_df_features = result_df_features.drop_duplicates()\n",
    "result_df_features = result_df_features.reset_index(drop=True)\n",
    "# Print the result DataFrame\n",
    "print(result_df_features)"
   ]
  },
  {
   "cell_type": "code",
   "execution_count": 22,
   "metadata": {},
   "outputs": [
    {
     "data": {
      "text/plain": [
       "['model_probability1.joblib']"
      ]
     },
     "execution_count": 22,
     "metadata": {},
     "output_type": "execute_result"
    }
   ],
   "source": [
    "import joblib\n",
    "joblib.dump(model_features, 'model_probability1.joblib')"
   ]
  },
  {
   "cell_type": "code",
   "execution_count": 23,
   "metadata": {},
   "outputs": [],
   "source": [
    "# Target variable for classification\n",
    "y = data_df[\"TARGET\"]\n",
    "\n",
    "# Target variable for regression\n",
    "y2 = data_df[\"AMT_CREDIT\"]\n",
    "\n",
    "# Split the data into training and testing sets\n",
    "X_train, X_test, y_train, y_test, y2_train, y2_test = train_test_split(X, y, y2, test_size=0.2, random_state=42)\n",
    "\n",
    "# Random Forest Classifier\n",
    "rf_classifier = RandomForestClassifier(n_estimators=100, random_state=42)\n",
    "rf_classifier.fit(X_train, y_train)\n",
    "\n",
    "# Predict probabilities for the classification\n",
    "y_pred_proba = rf_classifier.predict_proba(X_test)[:, 1]\n",
    "\n",
    "# Random Forest Regressor\n",
    "rf_regressor = RandomForestRegressor(n_estimators=100, random_state=42)\n",
    "rf_regressor.fit(X_train, y2_train)\n",
    "\n",
    "# Predict credit amounts for regression\n",
    "y2_pred = rf_regressor.predict(X_test)\n",
    "\n",
    "# Create a joint DataFrame with predictions\n",
    "predictions_df = pd.DataFrame({\n",
    "    \"Classification_Probability\": y_pred_proba,\n",
    "    \"Regression_Predicted_Amount\": y2_pred,\n",
    "    \"True_Classification_Label\": y_test,\n",
    "    \"True_Regression_Amount\": y2_test\n",
    "})\n"
   ]
  },
  {
   "cell_type": "code",
   "execution_count": 24,
   "metadata": {},
   "outputs": [
    {
     "data": {
      "text/html": [
       "<div>\n",
       "<style scoped>\n",
       "    .dataframe tbody tr th:only-of-type {\n",
       "        vertical-align: middle;\n",
       "    }\n",
       "\n",
       "    .dataframe tbody tr th {\n",
       "        vertical-align: top;\n",
       "    }\n",
       "\n",
       "    .dataframe thead th {\n",
       "        text-align: right;\n",
       "    }\n",
       "</style>\n",
       "<table border=\"1\" class=\"dataframe\">\n",
       "  <thead>\n",
       "    <tr style=\"text-align: right;\">\n",
       "      <th></th>\n",
       "      <th>Classification_Probability</th>\n",
       "      <th>Regression_Predicted_Amount</th>\n",
       "      <th>True_Classification_Label</th>\n",
       "      <th>True_Regression_Amount</th>\n",
       "    </tr>\n",
       "  </thead>\n",
       "  <tbody>\n",
       "    <tr>\n",
       "      <th>195154</th>\n",
       "      <td>0.00</td>\n",
       "      <td>1042560.0</td>\n",
       "      <td>0</td>\n",
       "      <td>1042560.0</td>\n",
       "    </tr>\n",
       "    <tr>\n",
       "      <th>209724</th>\n",
       "      <td>0.00</td>\n",
       "      <td>675000.0</td>\n",
       "      <td>0</td>\n",
       "      <td>675000.0</td>\n",
       "    </tr>\n",
       "    <tr>\n",
       "      <th>211072</th>\n",
       "      <td>0.00</td>\n",
       "      <td>501435.0</td>\n",
       "      <td>0</td>\n",
       "      <td>501435.0</td>\n",
       "    </tr>\n",
       "    <tr>\n",
       "      <th>218705</th>\n",
       "      <td>0.05</td>\n",
       "      <td>900000.0</td>\n",
       "      <td>0</td>\n",
       "      <td>900000.0</td>\n",
       "    </tr>\n",
       "    <tr>\n",
       "      <th>112273</th>\n",
       "      <td>0.00</td>\n",
       "      <td>1467612.0</td>\n",
       "      <td>0</td>\n",
       "      <td>1467612.0</td>\n",
       "    </tr>\n",
       "  </tbody>\n",
       "</table>\n",
       "</div>"
      ],
      "text/plain": [
       "        Classification_Probability  Regression_Predicted_Amount  \\\n",
       "195154                        0.00                    1042560.0   \n",
       "209724                        0.00                     675000.0   \n",
       "211072                        0.00                     501435.0   \n",
       "218705                        0.05                     900000.0   \n",
       "112273                        0.00                    1467612.0   \n",
       "\n",
       "        True_Classification_Label  True_Regression_Amount  \n",
       "195154                          0               1042560.0  \n",
       "209724                          0                675000.0  \n",
       "211072                          0                501435.0  \n",
       "218705                          0                900000.0  \n",
       "112273                          0               1467612.0  "
      ]
     },
     "execution_count": 24,
     "metadata": {},
     "output_type": "execute_result"
    }
   ],
   "source": [
    "# predictions_df contains both classification probabilities and regression predictions\n",
    "predictions_df.head()"
   ]
  },
  {
   "cell_type": "code",
   "execution_count": 25,
   "metadata": {},
   "outputs": [
    {
     "data": {
      "text/plain": [
       "['model_predict_feature.joblib']"
      ]
     },
     "execution_count": 25,
     "metadata": {},
     "output_type": "execute_result"
    }
   ],
   "source": [
    "# Exporting trained models in joblib for applicanting testing\n",
    "import joblib\n",
    "joblib.dump(rf_classifier, 'model_probability_feature.joblib')\n",
    "joblib.dump(rf_regressor, 'model_predict_feature.joblib')"
   ]
  }
 ],
 "metadata": {
  "kernelspec": {
   "display_name": "base",
   "language": "python",
   "name": "python3"
  },
  "language_info": {
   "codemirror_mode": {
    "name": "ipython",
    "version": 3
   },
   "file_extension": ".py",
   "mimetype": "text/x-python",
   "name": "python",
   "nbconvert_exporter": "python",
   "pygments_lexer": "ipython3",
   "version": "3.10.13"
  }
 },
 "nbformat": 4,
 "nbformat_minor": 2
}
