{
 "cells": [
  {
   "cell_type": "code",
   "execution_count": null,
   "metadata": {},
   "outputs": [],
   "source": [
    "# Dependencies and Setup\n",
    "import matplotlib.pyplot as plt\n",
    "import pandas as pd\n",
    "import scipy.stats as st\n",
    "\n",
    "# Study data files\n",
    "Credit_Card_path = \"credit_card_balance\"\n",
    "Bureau_balance_path = \"bureau_balance\"\n",
    "\n",
    "# Read the mouse data and the study results\n",
    "Credit_Card = pd.read_csv(Credit_Card_path)\n",
    "Bureau_balance = pd.read_csv(Bureau_balance_path)\n"
   ]
  }
 ],
 "metadata": {
  "language_info": {
   "name": "python"
  }
 },
 "nbformat": 4,
 "nbformat_minor": 2
}
